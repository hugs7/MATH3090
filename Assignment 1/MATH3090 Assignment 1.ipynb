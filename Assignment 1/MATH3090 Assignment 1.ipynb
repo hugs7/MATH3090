{
 "cells": [
  {
   "cell_type": "markdown",
   "id": "aea29006",
   "metadata": {},
   "source": [
    "# MATH3090 Assignment 1\n",
    "\n",
    "Student: Hugo Burton (s4698512)\n",
    "Date Due: Tuesday March 19 @ 1pm"
   ]
  },
  {
   "cell_type": "code",
   "execution_count": null,
   "id": "5b4c820b",
   "metadata": {},
   "outputs": [],
   "source": [
    "## Question 1"
   ]
  },
  {
   "cell_type": "code",
   "execution_count": null,
   "id": "85ef2428",
   "metadata": {},
   "outputs": [],
   "source": [
    "## Question 2"
   ]
  },
  {
   "cell_type": "code",
   "execution_count": null,
   "id": "41741111",
   "metadata": {},
   "outputs": [],
   "source": [
    "## Question 3"
   ]
  },
  {
   "cell_type": "code",
   "execution_count": 1,
   "id": "44ce4e6c",
   "metadata": {},
   "outputs": [],
   "source": [
    "## Question 4"
   ]
  }
 ],
 "metadata": {
  "kernelspec": {
   "display_name": "Python 3 (ipykernel)",
   "language": "python",
   "name": "python3"
  },
  "language_info": {
   "codemirror_mode": {
    "name": "ipython",
    "version": 3
   },
   "file_extension": ".py",
   "mimetype": "text/x-python",
   "name": "python",
   "nbconvert_exporter": "python",
   "pygments_lexer": "ipython3",
   "version": "3.10.11"
  }
 },
 "nbformat": 4,
 "nbformat_minor": 5
}
