{
 "cells": [
  {
   "cell_type": "markdown",
   "id": "9914c6fe",
   "metadata": {},
   "source": [
    "# MATH3090 Assignment 1\n",
    "\n",
    "Student: Hugo Burton (s4698512)\n",
    "Date Due: Tuesday March 19 @ 1pm"
   ]
  },
  {
   "cell_type": "code",
   "execution_count": 51,
   "id": "e005e1b6",
   "metadata": {},
   "outputs": [],
   "source": [
    "import math\n",
    "from typing import Dict\n",
    "from colorama import Fore\n",
    "import numpy as np\n",
    "import sys\n",
    "\n",
    "import bond\n",
    "import interest\n",
    "import newtons\n",
    "import display"
   ]
  },
  {
   "cell_type": "markdown",
   "id": "b64de14a",
   "metadata": {},
   "source": [
    "## Question 1 (6 marks)\n",
    "\n",
    "### Part A (3 marks)\n",
    "\n",
    "\n",
    "Suppose a company issues a zero coupon bond with face value $10,000 and which matures in 20 years. Calculate the price given:"
   ]
  },
  {
   "cell_type": "code",
   "execution_count": 52,
   "id": "01054740",
   "metadata": {},
   "outputs": [],
   "source": [
    "face_value = 10_000\n",
    "years_to_maturity = 20"
   ]
  },
  {
   "cell_type": "markdown",
   "id": "3c56032e",
   "metadata": {},
   "source": [
    "i. An 8\\% discount compound annual yield, compounded annually."
   ]
  },
  {
   "cell_type": "code",
   "execution_count": 53,
   "id": "c9d3e92c",
   "metadata": {},
   "outputs": [
    {
     "name": "stdout",
     "output_type": "stream",
     "text": [
      "\u001b[32mAnswer:\u001b[0m$2145.48\n",
      "----------------------------------------------------------------------------------------------------\n"
     ]
    }
   ],
   "source": [
    "# Question i\n",
    "interest_rate = 0.08\n",
    "compounding_frequency_yr = 1\n",
    "\n",
    "price_i = bond.price_zero_coupon_bond_discrete(\n",
    "    face_value, years_to_maturity, interest_rate, compounding_frequency_yr)\n",
    "\n",
    "display.display_answer(price_i)"
   ]
  },
  {
   "cell_type": "markdown",
   "id": "524460fd",
   "metadata": {},
   "source": [
    "ii. An 8\\% discount continuous annual yield, compounded semi-annually."
   ]
  },
  {
   "cell_type": "code",
   "execution_count": 54,
   "id": "5d2590ac",
   "metadata": {},
   "outputs": [
    {
     "name": "stdout",
     "output_type": "stream",
     "text": [
      "\u001b[32mAnswer:\u001b[0m$2018.97\n",
      "----------------------------------------------------------------------------------------------------\n"
     ]
    }
   ],
   "source": [
    "# Question ii\n",
    "interest_rate = 0.08\n",
    "\n",
    "price_ii = bond.price_zero_coupon_bond_continuous(\n",
    "    face_value, years_to_maturity, interest_rate)\n",
    "\n",
    "display.display_answer(price_ii)"
   ]
  },
  {
   "cell_type": "markdown",
   "id": "7ea12b2d",
   "metadata": {},
   "source": [
    "iii. A nonconstant yield of $y(t) = 0.06 + 0.2 t e^{-t^2}$."
   ]
  },
  {
   "cell_type": "code",
   "execution_count": 55,
   "id": "81f1c9cc",
   "metadata": {},
   "outputs": [
    {
     "name": "stdout",
     "output_type": "stream",
     "text": [
      "\u001b[32mAnswer:\u001b[0m$2725.32\n",
      "----------------------------------------------------------------------------------------------------\n"
     ]
    }
   ],
   "source": [
    "# Question iii\n",
    "q = \"iii\"\n",
    "def yield_function(t): return 0.06 + 0.2 * t * math.exp(-t**2)\n",
    "\n",
    "price_iii = bond.price_zero_coupon_bond_nonconstant_yield(\n",
    "    face_value, years_to_maturity, yield_function)\n",
    "\n",
    "display.display_answer(price_iii)"
   ]
  },
  {
   "cell_type": "markdown",
   "id": "087cec23",
   "metadata": {},
   "source": [
    "### Part B (3 marks)\n",
    "\n",
    "A 10 year \\$10,000 government bond has a coupon rate of 5\\% payable quarterly and yields 7\\%. Calculate the price."
   ]
  },
  {
   "cell_type": "code",
   "execution_count": 56,
   "id": "6637ee32",
   "metadata": {},
   "outputs": [
    {
     "name": "stdout",
     "output_type": "stream",
     "text": [
      "\u001b[32mAnswer:\u001b[0m$8570.29\n",
      "----------------------------------------------------------------------------------------------------\n"
     ]
    }
   ],
   "source": [
    "# Part b (3 marks)\n",
    "face_value = 10_000\n",
    "years_to_maturity = 10\n",
    "coupon_rate = 0.05\n",
    "interest_rate = 0.07\n",
    "compounding_frequency_yr = 4\n",
    "\n",
    "price_b = bond.price_coupon_bearing_bond_discrete(\n",
    "    face_value, years_to_maturity, coupon_rate, interest_rate, compounding_frequency_yr)\n",
    "\n",
    "display.display_answer(price_b)"
   ]
  },
  {
   "cell_type": "markdown",
   "id": "9e8eb2f4",
   "metadata": {},
   "source": [
    "## Question 2 (6 marks)\n",
    "\n",
    "Consider the cash flow \n",
    "\n",
    "$$C_0 = -3x,\\hspace{0.5cm} C_1 = 5,\\hspace{0.5cm} C_2 = x$$\n",
    "\n",
    "(at periods 0, 1, 2 respectively) for some $x > 0$."
   ]
  },
  {
   "cell_type": "markdown",
   "id": "026208b8",
   "metadata": {},
   "source": [
    "## Part A (3 marks)\n",
    "\n",
    "Apply the discount process $d(k) = (1 + r)^{-k}$ so that the present value is\n",
    "\n",
    "$$P = \\sum_{k=0}^{2} d(k) C_k$$\n",
    "\n",
    "What is the range of $x$ such that $P > 0$ when $r = 5\\%$?"
   ]
  },
  {
   "cell_type": "markdown",
   "id": "d7fbdad8",
   "metadata": {},
   "source": [
    "\\begin{align}\n",
    "    0 &< P \\\\\n",
    "    0 &< \\sum_{i=0}^{2} d(k) C_k \\\\\n",
    "    0 &< \\left[(1 + 0.05)^{-0} \\cdot -3x\\right] + \\left[(1 + 0.05)^{-1} \\cdot 5\\right] + \\left[(1 + 0.05)^{-2} \\cdot x\\right] \\\\\n",
    "    0 &< \\left[1 \\cdot -3x\\right] + \\left[\\frac{5}{1 + 0.05}\\right] + \\left[\\frac{x}{(1 + 0.05)^{2}}\\right] \\\\\n",
    "    0 &< -3x + \\frac{5}{1.05} + \\frac{x}{1.05^{2}} \\\\\n",
    "    0 &< -3 \\cdot 1.05^2 x + 5 \\cdot 1.05 + x \\\\\n",
    "    0 &< -2.3075 x + 5.25 \\\\\n",
    "    2.3075 x &< 5.25 \\\\\n",
    "    x &< \\frac{5.25}{2.3075} \\\\\n",
    "    x &\\lessapprox 2.275 \\\\\n",
    "\\end{align}\n",
    "\n",
    "Therefore, when $r = 5\\%$, $P > 0$ holds when $x \\lessapprox 2.275$.\n",
    "\n",
    "We can verify this in code numerically as follows."
   ]
  },
  {
   "cell_type": "code",
   "execution_count": 64,
   "id": "4f049b48",
   "metadata": {},
   "outputs": [
    {
     "name": "stdout",
     "output_type": "stream",
     "text": [
      "Range of x such that P > 0 when r = 5.0%: 0 < x < 2.2700000000523204\n"
     ]
    }
   ],
   "source": [
    "r = 0.05\n",
    "cash_flow = lambda k, x: -3*x if k == 0 else (5 if k == 1 else x)\n",
    "\n",
    "accept_condition = lambda p: p > 0\n",
    "\n",
    "# Function to calculate present value based on some value of x\n",
    "def present_value(x: float) -> float:\n",
    "    present_value = sum(cash_flow(k, x) * interest.discrete_compound_interest_discounted(r, k, 1) \\\n",
    "                        for k in range(2+1))\n",
    "    \n",
    "    return present_value\n",
    "\n",
    "cash_flows_x: Dict[float, float] = {}\n",
    "x_min = -100.0\n",
    "x_max = 100.0\n",
    "x_step = 0.01\n",
    "accept_min_x = 0\n",
    "accept_max_x = None\n",
    "\n",
    "# Loop over a wide range of x\n",
    "for x in np.arange(x_min, x_max, x_step):\n",
    "    cash_flow_x = present_value(x)\n",
    "\n",
    "    cash_flows_x[x] = cash_flow_x\n",
    "\n",
    "    if accept_condition(cash_flow_x):\n",
    "        # Min\n",
    "        if not accept_min_x:\n",
    "            accept_min_x = x\n",
    "        elif x < accept_min_x:\n",
    "            accept_min_x = x\n",
    "\n",
    "        # Max\n",
    "        if not accept_max_x:\n",
    "            accept_max_x = x\n",
    "        elif x > accept_max_x:\n",
    "            accept_max_x = x\n",
    "\n",
    "if accept_min_x == x_min:\n",
    "    accept_min_x = 0\n",
    "\n",
    "if accept_max_x == x_max:\n",
    "    accept_max_x = math.inf\n",
    "\n",
    "print(\n",
    "    f\"Range of x such that P > 0 when r = {r * 100}%: {accept_min_x} < x < {accept_max_x}\")\n"
   ]
  },
  {
   "cell_type": "markdown",
   "id": "58af04b9",
   "metadata": {},
   "source": [
    "## Part B (3 marks)\n",
    "\n",
    "The IRR (internal rate of return) is $r$ such that $P = 0$. For what range of $x$ will there be a unique, strictly positive IRR?"
   ]
  },
  {
   "cell_type": "markdown",
   "id": "de1f0488",
   "metadata": {},
   "source": [
    "\\begin{align}\n",
    "    P &= \\sum_{k=0}^{2} d(k) \\cdot C_k \\\\\n",
    "    0 &= \\left[d(0) \\cdot -3x\\right] + \\left[d(1) \\cdot 5\\right] + \\left[d(2) \\cdot x\\right] \\\\\n",
    "    &= -3x (1 + r)^{-0} + 5 (1 + r)^{-1} + x (1 + r)^{-2} \\\\\n",
    "    &= -3x \\cdot 1 + \\frac{5}{1 + r} + \\frac{x}{(1 + r)^2} \\\\\n",
    "    &= -3x (1 + r)^2 + 5 (1 + r) + x \\\\\n",
    "    &= -3x (1^2 + 2r + r^2) + 5 + 5r + x \\\\\n",
    "    &= -3x - 6xr - 3xr^2 + 5 + 5r + x \\\\\n",
    "    &= -3xr^2 + (5 - 6x)r + (x - 3x + 5) \\\\\n",
    "    &= -3xr^2 + (5 - 6x)r + (5 - 2x)\n",
    "\\end{align}\n",
    "\n",
    "As we want $r > 0$, then solve for $\\Delta > 0$\n",
    "\n",
    "\\begin{align}\n",
    "    0 &< \\Delta \\\\\n",
    "    0 &< (5 - 6x)^2 - 4 \\cdot (-3x) \\cdot (5 - 2x) \\\\\n",
    "    0 &< (25 - 60x + 36x^2) + 12x \\cdot (5 - 2x) \\\\\n",
    "    0 &< 36x^2 - 60x + 25 + 60x - 24x^2 \\\\\n",
    "    0 &< 12x^2 + 25\n",
    "\\end{align}\n",
    "\n",
    "This will always hold $\\forall x \\in \\mathbb{R}^+$\n",
    "\n",
    "Therefore, if $x > 0$, then IRR $= \\left\\{r | P = 0\\right\\} > 0$."
   ]
  },
  {
   "cell_type": "markdown",
   "id": "fc185614",
   "metadata": {},
   "source": [
    "## Question 3 (8 marks)\n",
    "\n",
    "| Cashflows ($C_i$) | Times ($t_i$) |\n",
    "| :---------------: | :-----------: |\n",
    "| 2.3               | 1.0           |\n",
    "| 2.9               | 2.0           |\n",
    "| 3.0               | 3.0           |\n",
    "| 3.2               | 4.0           |\n",
    "| 4.0               | 5.0           |\n",
    "| 3.8               | 6.0           |\n",
    "| 4.2               | 7.0           |\n",
    "| 4.8               | 8.0           |\n",
    "| 5.5               | 9.0           |\n",
    "| 105               | 10.0          |\n",
    "\n",
    "<p style=\"text-align: center;\">Table 1: Bond Cashflows</p>\n",
    "\n",
    "In this question, consider a bond with a set of cashflows given in Table 1. Here, note that the face value $F$ is already included in the last cashflow. Let $y$ be the yield to maturity, $t_i$ be the time of the $i^{\\text{th}}$ cashflow $C_i$, and $PV = 100$ be the market price of the bond at $t = 0$. Assume continuous compounding. Then $y$ solves\n",
    "\n",
    "$$PV = \\sum_{i} C_i e^{-y t_i}$$"
   ]
  },
  {
   "cell_type": "markdown",
   "id": "ecfe0bf3",
   "metadata": {},
   "source": [
    "## Part A (3 marks)\n",
    "\n",
    "Write out the Newton iteration to compute $y_{n+1}$ from $y_n$ (see L2.49). Specifically, clearly indicate the functions $f(y)$ and $f'(y)$."
   ]
  },
  {
   "cell_type": "markdown",
   "id": "4cafe922",
   "metadata": {},
   "source": [
    "## Part B (5 marks)\n",
    "\n",
    "Implement the above Newton iteration in Matlab using the stopping criteria \n",
    "\n",
    "$$|y_{n+1} - y_n|$ < 10^{-8}.$$\n",
    "\n",
    "Fill in Table 2 for $y_0 = 0.05$ (add rows as necessary).\n",
    "\n",
    "In addition, try with larger values for $y_0$ and observe the accuracy and convergence speed. How does the performance change?\n",
    "\n",
    "| $n$ | $y_n$ | $|y_n - y_{n-1}|$ |\n",
    "| :-: | :---: | :---------------: |\n",
    "|  0  |  ...  | ..                |\n",
    "|  0  |  ...  | ..                |\n",
    "|  0  |  ...  | ..                |\n",
    "|  0  |  ...  | ..                |\n",
    "|  0  |  ...  | ..                |"
   ]
  },
  {
   "cell_type": "markdown",
   "id": "4ce772ac",
   "metadata": {},
   "source": [
    "## Question 4\n",
    "\n",
    "In the Constant Growth DDM model, the present value of the share is\")\n",
    "\n",
    "$$PV = \\sum_{t=1}^{\\infty} \\frac{D_t}{(1 + k)^t}$$\n",
    "\n",
    "where $D_1, D_2, ...$ are (non-random) dividends and $k > 0$ is the required rate of return\n",
    "\n",
    "Suppose $D_0 > 0$, $k > 0$ and $g > 0$\n",
    "\n",
    "Derive the formula for the present value (2) when\n",
    "\n",
    "$$D_t = D_0 (1 + g)^{\\ceil{\\frac{t}{2}}}, \\hspace{0.5cm} t = 1, 2, ...$$\n",
    "\n",
    "where $\\ceil{x}$ is the smallest integer greater than or equal to $x$. What is the condition of $g$ so that $PV$ is finite? To get full marks, you will need to write an explicit expression (without summation)."
   ]
  }
 ],
 "metadata": {
  "kernelspec": {
   "display_name": "Python 3 (ipykernel)",
   "language": "python",
   "name": "python3"
  },
  "language_info": {
   "codemirror_mode": {
    "name": "ipython",
    "version": 3
   },
   "file_extension": ".py",
   "mimetype": "text/x-python",
   "name": "python",
   "nbconvert_exporter": "python",
   "pygments_lexer": "ipython3",
   "version": "3.10.11"
  }
 },
 "nbformat": 4,
 "nbformat_minor": 5
}
