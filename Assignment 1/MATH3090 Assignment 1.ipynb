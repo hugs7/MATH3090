{
 "cells": [
  {
   "cell_type": "markdown",
   "id": "ae2fbc24",
   "metadata": {},
   "source": [
    "# MATH3090 Assignment 1\n",
    "\n",
    "Student: Hugo Burton (s4698512)\n",
    "Date Due: Tuesday March 19 @ 1pm"
   ]
  },
  {
   "cell_type": "code",
   "execution_count": 38,
   "id": "b84fa816",
   "metadata": {},
   "outputs": [],
   "source": [
    "import math\n",
    "from typing import Dict\n",
    "from colorama import Fore\n",
    "import numpy as np\n",
    "import sys\n",
    "\n",
    "import bond\n",
    "import interest\n",
    "import newtons\n",
    "import display"
   ]
  },
  {
   "cell_type": "markdown",
   "id": "755d64c4",
   "metadata": {},
   "source": [
    "## Question 1\n",
    "\n",
    "### Part A (3 marks)\n",
    "\n",
    "\n",
    "Suppose a company issues a zero coupon bond with face value $10,000 and which matures in 20 years. Calculate the price given:"
   ]
  },
  {
   "cell_type": "code",
   "execution_count": 39,
   "id": "1ab984d0",
   "metadata": {},
   "outputs": [],
   "source": [
    "face_value = 10_000\n",
    "years_to_maturity = 20"
   ]
  },
  {
   "cell_type": "markdown",
   "id": "4accc493",
   "metadata": {},
   "source": [
    "i. An 8\\% discount compound annual yield, compounded annually."
   ]
  },
  {
   "cell_type": "code",
   "execution_count": 40,
   "id": "30169d33",
   "metadata": {},
   "outputs": [
    {
     "name": "stdout",
     "output_type": "stream",
     "text": [
      "\u001b[32mAnswer:\u001b[0m$2145.48\n",
      "----------------------------------------------------------------------------------------------------\n"
     ]
    }
   ],
   "source": [
    "# Question i\n",
    "interest_rate = 0.08\n",
    "compounding_frequency_yr = 1\n",
    "\n",
    "price_i = bond.price_zero_coupon_bond_discrete(\n",
    "    face_value, years_to_maturity, interest_rate, compounding_frequency_yr)\n",
    "\n",
    "display.display_answer(price_i)"
   ]
  },
  {
   "cell_type": "markdown",
   "id": "e2444841",
   "metadata": {},
   "source": [
    "ii. An 8\\% discount continuous annual yield, compounded semi-annually."
   ]
  },
  {
   "cell_type": "code",
   "execution_count": 41,
   "id": "14cc61fa",
   "metadata": {},
   "outputs": [
    {
     "name": "stdout",
     "output_type": "stream",
     "text": [
      "\u001b[32mAnswer:\u001b[0m$2018.97\n",
      "----------------------------------------------------------------------------------------------------\n"
     ]
    }
   ],
   "source": [
    "# Question ii\n",
    "interest_rate = 0.08\n",
    "\n",
    "price_ii = bond.price_zero_coupon_bond_continuous(\n",
    "    face_value, years_to_maturity, interest_rate)\n",
    "\n",
    "display.display_answer(price_ii)"
   ]
  },
  {
   "cell_type": "markdown",
   "id": "203e41c4",
   "metadata": {},
   "source": [
    "iii. A nonconstant yield of $y(t) = 0.06 + 0.2 t e^{-t^2}$."
   ]
  },
  {
   "cell_type": "code",
   "execution_count": 42,
   "id": "d6bd8c17",
   "metadata": {},
   "outputs": [
    {
     "name": "stdout",
     "output_type": "stream",
     "text": [
      "\u001b[32mAnswer:\u001b[0m$2725.32\n",
      "----------------------------------------------------------------------------------------------------\n"
     ]
    }
   ],
   "source": [
    "# Question iii\n",
    "q = \"iii\"\n",
    "def yield_function(t): return 0.06 + 0.2 * t * math.exp(-t**2)\n",
    "\n",
    "price_iii = bond.price_zero_coupon_bond_nonconstant_yield(\n",
    "    face_value, years_to_maturity, yield_function)\n",
    "\n",
    "display.display_answer(price_iii)"
   ]
  },
  {
   "cell_type": "markdown",
   "id": "24cfb087",
   "metadata": {},
   "source": [
    "### Part B (3 marks)\n",
    "\n",
    "A 10 year \\$10,000 government bond has a coupon rate of 5\\% payable quarterly and yields 7\\%. Calculate the price."
   ]
  },
  {
   "cell_type": "code",
   "execution_count": 43,
   "id": "8f067433",
   "metadata": {},
   "outputs": [
    {
     "name": "stdout",
     "output_type": "stream",
     "text": [
      "\u001b[32mAnswer:\u001b[0m$8570.29\n",
      "----------------------------------------------------------------------------------------------------\n"
     ]
    }
   ],
   "source": [
    "# Part b (3 marks)\n",
    "face_value = 10_000\n",
    "years_to_maturity = 10\n",
    "coupon_rate = 0.05\n",
    "interest_rate = 0.07\n",
    "compounding_frequency_yr = 4\n",
    "\n",
    "price_b = bond.price_coupon_bearing_bond_discrete(\n",
    "    face_value, years_to_maturity, coupon_rate, interest_rate, compounding_frequency_yr)\n",
    "\n",
    "display.display_answer(price_b)"
   ]
  },
  {
   "cell_type": "markdown",
   "id": "b243780d",
   "metadata": {},
   "source": [
    "## Question 2\n",
    "\n",
    "Consider the cash flow \n",
    "\n",
    "$$C_0 = -3x,\\hspace{0.5cm} C_1 = 5,\\hspace{0.5cm} C_2 = x$$\n",
    "\n",
    "(at periods 0, 1, 2 respectively) for some $x > 0$."
   ]
  },
  {
   "cell_type": "markdown",
   "id": "985761d9",
   "metadata": {},
   "source": [
    "## Part A (3 marks)\n",
    "\n",
    "Apply the discount process $d(k) = (1 + r)^{-k}$ so that the present value is\n",
    "\n",
    "$$P = \\sum_{k=0}^{2} d(k) C_k$$\n",
    "\n",
    "What is the range of $x$ such that $P > 0$ when $r = 5\\%$?"
   ]
  },
  {
   "cell_type": "markdown",
   "id": "1f3d99b6",
   "metadata": {},
   "source": [
    "## Part B (3 marks)\n",
    "\n",
    "The IRR (internal rate of return) is $r$ such that $P = 0$. For what range of $x$ will there be a unique, strictly positive IRR?"
   ]
  },
  {
   "cell_type": "markdown",
   "id": "52f922b0",
   "metadata": {},
   "source": [
    "## Question 3\n",
    "\n"
   ]
  },
  {
   "cell_type": "markdown",
   "id": "9f6a1b88",
   "metadata": {},
   "source": [
    "## Question 4"
   ]
  }
 ],
 "metadata": {
  "kernelspec": {
   "display_name": "Python 3 (ipykernel)",
   "language": "python",
   "name": "python3"
  },
  "language_info": {
   "codemirror_mode": {
    "name": "ipython",
    "version": 3
   },
   "file_extension": ".py",
   "mimetype": "text/x-python",
   "name": "python",
   "nbconvert_exporter": "python",
   "pygments_lexer": "ipython3",
   "version": "3.10.11"
  }
 },
 "nbformat": 4,
 "nbformat_minor": 5
}
