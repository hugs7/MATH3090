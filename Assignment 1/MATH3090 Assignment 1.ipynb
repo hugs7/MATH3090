{
 "cells": [
  {
   "cell_type": "markdown",
   "id": "3eb272d0",
   "metadata": {},
   "source": [
    "# MATH3090 Assignment 1\n",
    "\n",
    "Student: Hugo Burton (s4698512)\n",
    "Date Due: Tuesday March 19 @ 1pm"
   ]
  },
  {
   "cell_type": "code",
   "execution_count": 51,
   "id": "5185956d",
   "metadata": {},
   "outputs": [],
   "source": [
    "import math\n",
    "from typing import Dict\n",
    "from colorama import Fore\n",
    "import numpy as np\n",
    "import sys\n",
    "\n",
    "import bond\n",
    "import interest\n",
    "import newtons\n",
    "import display"
   ]
  },
  {
   "cell_type": "markdown",
   "id": "6d225fe5",
   "metadata": {},
   "source": [
    "## Question 1 (6 marks)\n",
    "\n",
    "### Part A (3 marks)\n",
    "\n",
    "\n",
    "Suppose a company issues a zero coupon bond with face value $10,000 and which matures in 20 years. Calculate the price given:"
   ]
  },
  {
   "cell_type": "code",
   "execution_count": 52,
   "id": "cbd6cd5f",
   "metadata": {},
   "outputs": [],
   "source": [
    "face_value = 10_000\n",
    "years_to_maturity = 20"
   ]
  },
  {
   "cell_type": "markdown",
   "id": "962c3022",
   "metadata": {},
   "source": [
    "i. An 8\\% discount compound annual yield, compounded annually."
   ]
  },
  {
   "cell_type": "code",
   "execution_count": 53,
   "id": "cf8849fb",
   "metadata": {},
   "outputs": [
    {
     "name": "stdout",
     "output_type": "stream",
     "text": [
      "\u001b[32mAnswer:\u001b[0m$2145.48\n",
      "----------------------------------------------------------------------------------------------------\n"
     ]
    }
   ],
   "source": [
    "# Question i\n",
    "interest_rate = 0.08\n",
    "compounding_frequency_yr = 1\n",
    "\n",
    "price_i = bond.price_zero_coupon_bond_discrete(\n",
    "    face_value, years_to_maturity, interest_rate, compounding_frequency_yr)\n",
    "\n",
    "display.display_answer(price_i)"
   ]
  },
  {
   "cell_type": "markdown",
   "id": "ca917e9f",
   "metadata": {},
   "source": [
    "ii. An 8\\% discount continuous annual yield, compounded semi-annually."
   ]
  },
  {
   "cell_type": "code",
   "execution_count": 54,
   "id": "892f9c5b",
   "metadata": {},
   "outputs": [
    {
     "name": "stdout",
     "output_type": "stream",
     "text": [
      "\u001b[32mAnswer:\u001b[0m$2018.97\n",
      "----------------------------------------------------------------------------------------------------\n"
     ]
    }
   ],
   "source": [
    "# Question ii\n",
    "interest_rate = 0.08\n",
    "\n",
    "price_ii = bond.price_zero_coupon_bond_continuous(\n",
    "    face_value, years_to_maturity, interest_rate)\n",
    "\n",
    "display.display_answer(price_ii)"
   ]
  },
  {
   "cell_type": "markdown",
   "id": "2a455268",
   "metadata": {},
   "source": [
    "iii. A nonconstant yield of $y(t) = 0.06 + 0.2 t e^{-t^2}$."
   ]
  },
  {
   "cell_type": "code",
   "execution_count": 55,
   "id": "c9fce521",
   "metadata": {},
   "outputs": [
    {
     "name": "stdout",
     "output_type": "stream",
     "text": [
      "\u001b[32mAnswer:\u001b[0m$2725.32\n",
      "----------------------------------------------------------------------------------------------------\n"
     ]
    }
   ],
   "source": [
    "# Question iii\n",
    "q = \"iii\"\n",
    "def yield_function(t): return 0.06 + 0.2 * t * math.exp(-t**2)\n",
    "\n",
    "price_iii = bond.price_zero_coupon_bond_nonconstant_yield(\n",
    "    face_value, years_to_maturity, yield_function)\n",
    "\n",
    "display.display_answer(price_iii)"
   ]
  },
  {
   "cell_type": "markdown",
   "id": "913ad9d9",
   "metadata": {},
   "source": [
    "### Part B (3 marks)\n",
    "\n",
    "A 10 year \\$10,000 government bond has a coupon rate of 5\\% payable quarterly and yields 7\\%. Calculate the price."
   ]
  },
  {
   "cell_type": "code",
   "execution_count": 56,
   "id": "24b50a52",
   "metadata": {},
   "outputs": [
    {
     "name": "stdout",
     "output_type": "stream",
     "text": [
      "\u001b[32mAnswer:\u001b[0m$8570.29\n",
      "----------------------------------------------------------------------------------------------------\n"
     ]
    }
   ],
   "source": [
    "# Part b (3 marks)\n",
    "face_value = 10_000\n",
    "years_to_maturity = 10\n",
    "coupon_rate = 0.05\n",
    "interest_rate = 0.07\n",
    "compounding_frequency_yr = 4\n",
    "\n",
    "price_b = bond.price_coupon_bearing_bond_discrete(\n",
    "    face_value, years_to_maturity, coupon_rate, interest_rate, compounding_frequency_yr)\n",
    "\n",
    "display.display_answer(price_b)"
   ]
  },
  {
   "cell_type": "markdown",
   "id": "2e530624",
   "metadata": {},
   "source": [
    "## Question 2 (6 marks)\n",
    "\n",
    "Consider the cash flow \n",
    "\n",
    "$$C_0 = -3x,\\hspace{0.5cm} C_1 = 5,\\hspace{0.5cm} C_2 = x$$\n",
    "\n",
    "(at periods 0, 1, 2 respectively) for some $x > 0$."
   ]
  },
  {
   "cell_type": "markdown",
   "id": "02838769",
   "metadata": {},
   "source": [
    "## Part A (3 marks)\n",
    "\n",
    "Apply the discount process $d(k) = (1 + r)^{-k}$ so that the present value is\n",
    "\n",
    "$$P = \\sum_{k=0}^{2} d(k) C_k$$\n",
    "\n",
    "What is the range of $x$ such that $P > 0$ when $r = 5\\%$?"
   ]
  },
  {
   "cell_type": "markdown",
   "id": "e2fb0313",
   "metadata": {},
   "source": [
    "## Part B (3 marks)\n",
    "\n",
    "The IRR (internal rate of return) is $r$ such that $P = 0$. For what range of $x$ will there be a unique, strictly positive IRR?"
   ]
  },
  {
   "cell_type": "markdown",
   "id": "c294351e",
   "metadata": {},
   "source": [
    "## Question 3 (8 marks)\n",
    "\n",
    "| Cashflows ($C_i$) | Times ($t_i$) |\n",
    "| :---------------: | :-----------: |\n",
    "| 2.3               | 1.0           |\n",
    "| 2.9               | 2.0           |\n",
    "| 3.0               | 3.0           |\n",
    "| 3.2               | 4.0           |\n",
    "| 4.0               | 5.0           |\n",
    "| 3.8               | 6.0           |\n",
    "| 4.2               | 7.0           |\n",
    "| 4.8               | 8.0           |\n",
    "| 5.5               | 9.0           |\n",
    "| 105               | 10.0          |\n",
    "\n",
    "<p style=\"text-align: center;\">Table 1: Bond Cashflows</p>\n",
    "\n",
    "In this question, consider a bond with a set of cashflows given in Table 1. Here, note that the face value $F$ is already included in the last cashflow. Let $y$ be the yield to maturity, $t_i$ be the time of the $i^{\\text{th}}$ cashflow $C_i$, and $PV = 100$ be the market price of the bond at $t = 0$. Assume continuous compounding. Then $y$ solves\n",
    "\n",
    "$$PV = \\sum_{i} C_i e^{-y t_i}$$"
   ]
  },
  {
   "cell_type": "markdown",
   "id": "a283cdea",
   "metadata": {},
   "source": [
    "## Part A (3 marks)\n",
    "\n",
    "Write out the Newton iteration to compute $y_{n+1}$ from $y_n$ (see L2.49). Specifically, clearly indicate the functions $f(y)$ and $f'(y)$."
   ]
  },
  {
   "cell_type": "markdown",
   "id": "32616464",
   "metadata": {},
   "source": [
    "## Part B (5 marks)\n",
    "\n",
    "Implement the above Newton iteration in Matlab using the stopping criteria \n",
    "\n",
    "$$|y_{n+1} - y_n|$ < 10^{-8}.$$\n",
    "\n",
    "Fill in Table 2 for $y_0 = 0.05$ (add rows as necessary).\n",
    "\n",
    "In addition, try with larger values for $y_0$ and observe the accuracy and convergence speed. How does the performance change?\n",
    "\n",
    "| $n$ | $y_n$ | $|y_n - y_{n-1}|$ |\n",
    "| :-: | :---: | :---------------: |\n",
    "|  0  |  ...  | ..                |\n",
    "|  0  |  ...  | ..                |\n",
    "|  0  |  ...  | ..                |\n",
    "|  0  |  ...  | ..                |\n",
    "|  0  |  ...  | ..                |"
   ]
  },
  {
   "cell_type": "markdown",
   "id": "ced19817",
   "metadata": {},
   "source": [
    "## Question 4\n",
    "\n",
    "In the Constant Growth DDM model, the present value of the share is\")\n",
    "\n",
    "$$PV = \\sum_{t=1}^{\\infty} \\frac{D_t}{(1 + k)^t}$$\n",
    "\n",
    "where $D_1, D_2, ...$ are (non-random) dividends and $k > 0$ is the required rate of return\n",
    "\n",
    "Suppose $D_0 > 0$, $k > 0$ and $g > 0$\n",
    "\n",
    "Derive the formula for the present value (2) when\n",
    "\n",
    "$$D_t = D_0 (1 + g)^{\\ceil{\\frac{t}{2}}}, \\hspace{0.5cm} t = 1, 2, ...$$\n",
    "\n",
    "where $\\ceil{x}$ is the smallest integer greater than or equal to $x$. What is the condition of $g$ so that $PV$ is finite? To get full marks, you will need to write an explicit expression (without summation)."
   ]
  }
 ],
 "metadata": {
  "kernelspec": {
   "display_name": "Python 3 (ipykernel)",
   "language": "python",
   "name": "python3"
  },
  "language_info": {
   "codemirror_mode": {
    "name": "ipython",
    "version": 3
   },
   "file_extension": ".py",
   "mimetype": "text/x-python",
   "name": "python",
   "nbconvert_exporter": "python",
   "pygments_lexer": "ipython3",
   "version": "3.10.11"
  }
 },
 "nbformat": 4,
 "nbformat_minor": 5
}
