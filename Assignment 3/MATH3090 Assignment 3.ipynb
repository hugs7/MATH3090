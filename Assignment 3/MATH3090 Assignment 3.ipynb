{
 "cells": [
  {
   "cell_type": "markdown",
   "id": "cdb8190f-128a-44b3-bd2a-2bea86add440",
   "metadata": {},
   "source": [
    "MATH3090 Assignment 3\n",
    "=====================\n",
    "\n",
    "**Student:** Hugo Burton\n",
    "<br/>\n",
    "**Date Due:** Tuesday 21<sup>st</sup> May 2024 @ 1pm"
   ]
  },
  {
   "cell_type": "markdown",
   "id": "53895b3c-48b1-4424-9018-626a2b1874bd",
   "metadata": {},
   "source": [
    "# Question 1 [6 Marks]\n",
    "\n",
    "In the one-period binomial model specified in L6.32, suppose $r = 0, S_0 = 100, S_u = 120$ and $S_d = 80$."
   ]
  },
  {
   "cell_type": "markdown",
   "id": "86921ea6-5cd9-4f47-82d1-0b6f10a0a6d9",
   "metadata": {},
   "source": [
    "##  Part A [1 Mark]\n",
    "\n",
    "Find an equivalent margingale measure (i.e. $p_u$ in L6.36), using $\\mathbb{E}\\left(S_T\\right) = S_0$."
   ]
  },
  {
   "cell_type": "markdown",
   "id": "a2e2969d-1722-4078-9f43-a9a51b68b3f5",
   "metadata": {},
   "source": [
    "We can compute $p_u$ as\n",
    "<!--\n",
    "\\begin{align}\n",
    "    p_u &= \\frac{S_0 e^{rT} - S_d}{S_u - S_d} \\\\\n",
    "    &= \\frac{100 \\cdot e^{0 \\cdot T} - 80}{120 - 80} \\\\\n",
    "    &= \\frac{20}{40} \\\\\n",
    "    &= \\frac{1}{2}\n",
    "\\end{align}\n",
    "\n",
    "\\begin{align}\n",
    "    C_0 &= e^{-rT} \\mathbb{E}\\left[C_T\\right] \\\\\n",
    "    &= e^{-rT} \\left[p_u C_u + (1 - p_u) C_d\\right] \\\\\n",
    "\\end{align}\n",
    "-->\n",
    "\\begin{align}\n",
    "    \\mathbb{E}(S_T) &= S_0 \\\\\n",
    "    S_0 &= e^{-rT} \\left[p_u S_u + \\left(1 - p_u\\right) S_d\\right] \\\\\n",
    "    100 &= e^{-0 \\cdot T} \\left[p_u 120 + \\left(1 - p_u\\right) 80\\right] \\\\\n",
    "    100 &= 120 p_u + 80 - 80 p_u \\\\\n",
    "    20 &= 40 p_u \\\\\n",
    "    p_u &= \\frac{1}{2}\n",
    "\\end{align}\n"
   ]
  },
  {
   "cell_type": "markdown",
   "id": "db2b58dd-4f12-4443-b26d-2c8d81013c16",
   "metadata": {},
   "source": [
    "## Part B [2 Marks]\n",
    "\n",
    "To this market, suppose we add an additional asset $U = \\{U_0, U_T\\}$ with $U_0 = 10$ and\n",
    "\n",
    "$$U_T = \\begin{cases}U_u = x & \\text{up} \\\\ U_d = 5 & \\text{down}\\end{cases}$$\n",
    "\n",
    "for some $x > 0$. Find the value of $x$ such that the market is arbitrage-free. With this selection of $x$, is the market complete?"
   ]
  },
  {
   "cell_type": "markdown",
   "id": "d02a8470-e952-4e75-b3d8-296d7ef05cc8",
   "metadata": {},
   "source": [
    "By the no arbitrage assumption, we have that for each asset in the portfolio,\n",
    "\n",
    "$$X_0^i = e^{-rT} \\mathbb{E} \\left[X_T^i\\right]$$\n",
    "\n",
    "So then\n",
    "\n",
    "\\begin{align}\n",
    "    U_0 &= e^{-rT} \\mathbb{E} \\left[U_T\\right] \\\\\n",
    "    10 &= e^{-0 \\cdot T} \\left[p_u U_u + \\left(1 - p_u\\right) U_d\\right] \\\\\n",
    "    10 &= \\frac{1}{2} x + \\frac{1}{2} \\cdot 5 \\\\\n",
    "    7.5 &= x \\cdot \\frac{1}{2} \\\\\n",
    "    x &= 15\n",
    "\\end{align}\n",
    "\n",
    "A value of $x = 15$ ensures the market is arbitrage free as we have already shown in (a) a value of $p_u = \\frac{1}{2}$ gives an equivalent martingale measure. And by the first fundamental theorem of asset pricing, the existence of an equivalent margingale measure is equivalent to the lack of an arbitrage.\n",
    "\n",
    "By the second fundamental theorem of asset pricing, an arbitrage free market is complete if and only if there exists a unique martingale measure. We have shown above already that the market is arbitrage free. Furthermore, our solution for $p_u$ is constrained by the asset $S$ to be $p_u = \\frac{1}{2}$, and for the asset $U$, $x$ is constrained to $x = 15$. Hence, the margingale we have found \n",
    "\n",
    "$$\\left(\\mathbb{E}\\left(\\frac{S_T}{S_0}\\right) = \\frac{S_u}{S_0} \\cdot p_u + \\frac{S_d}{S_0} \\cdot (1 - p_u)\\right) = \\frac{S_u}{S_0} \\cdot \\frac{1}{2} + \\frac{S_d}{S_0} \\cdot \\left(1 - \\frac{1}{2}\\right) = 1$$\n",
    "\n",
    "This indicates that the market is complete, as there exists a unique martingale measure, satisfying the conditions of the second fundamental theorem of asset pricing.\n",
    "\n",
    "<!--A market is said to be complete if every random variable, $C_T$ can be replicated meaning $\\exists \\boldsymbol{\\Theta} = \\left(\\theta^1, ..., \\theta^N\\right)$ such that\n",
    "\n",
    "$$\\tilde{\\mathbb{P}} \\left(\\boldsymbol{\\Theta} \\cdot X_T = C_T\\right) = 1$$\n",
    "\n",
    "where $\\tilde{\\mathbb{P}}$ is the physical probability measure.-->"
   ]
  },
  {
   "cell_type": "markdown",
   "id": "ac60f1dd-9919-4dbe-932b-a9a311e78135",
   "metadata": {},
   "source": [
    "## Part C [3 Marks]\n",
    "\n",
    "Suppose $x$ is different from what you obtained in part (b). Find a Type 1 arbitrage."
   ]
  },
  {
   "cell_type": "markdown",
   "id": "4523114a-2ef4-4141-8a40-0929daa3cc89",
   "metadata": {},
   "source": [
    "Recall that a Type 1 arbitrage occurs when $V_0 = 0$ and both\n",
    "\n",
    "- $\\mathbb{P} \\left(V_T \\ge 0\\right) = 1$\n",
    "- $\\mathbb{P} \\left(V_T > 0\\right) > 0$\n",
    "\n",
    "With the market indexed as the vector $\\left(S, U\\right)$, consider the following portfolio\n",
    "\n",
    "$$\\boldsymbol{\\Theta} = \\left(\\theta^1, -\\theta^2\\right)$$\n",
    "\n",
    "That is where we hold a long position on $S$ and a short position on $U$. The value at time $T$ is then\n",
    "\n",
    "$$V_T = \\theta^1 \\cdot S_T - \\theta^2 \\cdot U_T$$\n",
    "\n",
    "Now solve for $\\boldsymbol{\\Theta}$ such that $V_0 = 0$ as per the requirement of a Type 1 arbitrage:\n",
    "\n",
    "\\begin{align}\n",
    "    0 &= \\theta^1 \\cdot S_0 - \\theta^2 \\cdot U_0 \\\\\n",
    "    0 &= 100 \\theta^1 - 10 \\theta^2 \\\\\n",
    "    10\\theta^1 &= \\theta^2 \\\\\n",
    "    \\theta^1 &= \\frac{\\theta^2}{10}\n",
    "\\end{align}\n",
    "\n",
    "In other words, we must long $10$ times the qty of $S$ as short $U$.\n",
    "\n",
    "Now consider the conditions of the arbitrage. For $\\mathbb{P} \\left(V_T \\ge 0\\right) = 1$, we can simply solve this inequality directly\n",
    "\n",
    "\\begin{align}\n",
    "    V_T &\\ge 0 \\\\\n",
    "    0 &\\le \\theta^1 \\cdot S_T - \\theta^2 \\cdot U_T \\\\\n",
    "    0 &\\le \\frac{\\theta^2}{10} \\cdot S_T - \\theta^2 \\cdot U_T\n",
    "\\end{align}\n",
    "\n",
    "Consider the case when the market experiences an upward movement (i.e. with probability $p_u = \\frac{1}{2}$). Then\n",
    "\n",
    "\\begin{align}\n",
    "    0 &\\le \\frac{\\theta^2}{10} \\cdot 120 - \\theta^2 \\cdot x \\\\\n",
    "    0 &\\le 12 \\cdot \\theta^2 - \\theta^2 \\cdot x \\\\\n",
    "    0 &\\le \\theta^2 \\left(12 - x\\right) \\\\\n",
    "    0 &\\le 12 - x \\\\\n",
    "    x &\\le 12\n",
    "\\end{align}\n",
    "\n",
    "and also consider the downward movement\n",
    "\n",
    "\\begin{align}\n",
    "    0 &\\le \\frac{\\theta^2}{10} \\cdot 80 - \\theta^2 \\cdot 5 \\\\\n",
    "    0 &\\le 8 \\cdot \\theta^2 - 5 \\cdot \\theta^2 \\\\\n",
    "    0 &\\le 3 \\cdot \\theta^2\n",
    "\\end{align}\n",
    "\n",
    "which will always be non-negative. If the value of $x$ satisfies $x \\le 12$, then we should decide to set $\\theta^2 > 0$ (and thus $\\theta^1 = \\frac{\\theta^2}{10} > 0$). This would achieve a non-negative $V_T$ with probability $1$. On the other hand if $x > 12$, then \n",
    "\n",
    "Therefore, the first (Type 1) arbitrage condition holds with probability $1$.\n",
    "\n",
    "Furthermore, we can show the second condition, $\\mathbb{P} \\left(V_T > 0\\right) > 0$ by \n",
    "\n",
    "Observe that if $x > 12$, then we can set $\\theta^2 = 0$, and so our time-$T$ value of the portfolio would be $V_T = 0 \\ge 0$ - still satisfying the conditions of the arbitrage."
   ]
  },
  {
   "cell_type": "markdown",
   "id": "ef9654bb-651d-4eb6-84ea-9e97c1c63db8",
   "metadata": {},
   "source": [
    "# Question 2 [6 Marks]\n",
    "\n",
    "We revisit the example in L7.6, where $r = 0, S_0 = 100, S_u = 130, S_m = 100$ and $S_d = 80$."
   ]
  },
  {
   "cell_type": "markdown",
   "id": "2031d115-f603-4066-8c4d-3535e65e4fc5",
   "metadata": {},
   "source": [
    "## Part A [2 Marks]\n",
    "\n",
    "Suppose we add an additional asset $U = \\{U_0, U_T\\}$ with $U_0 = 2$ and\n",
    "\n",
    "$$U_T = \\begin{cases}U_u = 10 & \\text{up} \\\\ U_m = 0 & \\text{middle} \\\\ U_d = 0 & \\text{down}\\end{cases}$$\n",
    "\n",
    "to the market. Is the new market arbitrage-free? If so, is it complete? If it is complete, find the (unique) equivalent martingale measure."
   ]
  },
  {
   "cell_type": "markdown",
   "id": "71601a30-3b6f-4d6b-890b-5b79ac314ea0",
   "metadata": {},
   "source": [
    "First consider the asset $S$ and solve so that it's (discounted) expectation equals it's initial value $S_0 = 100$.\n",
    "\n",
    "\\begin{align}\n",
    "    S_0 &= e^{-rT} \\mathbb{E} \\left[S_T\\right] \\\\\n",
    "    100 &= e^{-0 \\cdot T} \\left[130 p_u + 100 p_m + 80 p_d\\right] \\\\\n",
    "    &= 130 p_u + 100 p_m + 80 p_d \\\\\n",
    "    130 p_u &= 100 - 100 p_m - 80 p_d \\\\\n",
    "    p_u &= \\frac{10}{13} - \\frac{10}{13} p_m - \\frac{80}{13} p_d\n",
    "\\end{align}\n",
    "\n",
    "Then consider the second asset $U$, and solve for the same.\n",
    "\n",
    "\\begin{align}\n",
    "    U_0 &= e^{-rT} \\mathbb{E} \\left[U_T\\right] \\\\\n",
    "    2 &= e^{-0 \\cdot T} \\left[10 p_u + 0 p_m + 0 p_d\\right] \\\\\n",
    "    2 &= 10 p_u \\\\\n",
    "    p_u &= \\frac{1}{5}\n",
    "\\end{align}\n",
    "\n",
    "Then\n",
    "\n",
    "\\begin{align}\n",
    "    \\frac{1}{5} &= \\frac{10}{13} - \\frac{10}{13} p_m = \\frac{80}{13} p_d\n",
    "\\end{align}"
   ]
  },
  {
   "cell_type": "markdown",
   "id": "8327a740-2c58-47f2-bdd1-0e368c920552",
   "metadata": {},
   "source": [
    "## Part B [2 Marks]\n",
    "\n",
    "Repeat part (a) with $U_0 = 5$ (keeping all other parameters the same as in part (a))."
   ]
  },
  {
   "cell_type": "markdown",
   "id": "fc43ec5e-d85f-486d-b737-b0002fb858f9",
   "metadata": {},
   "source": [
    "## Part C [2 Marks]\n",
    "\n",
    "Repeat part (a) with\n",
    "\n",
    "$$U_T = \\begin{cases}U_u = 5 & \\text{up} \\\\ U_m = 2 & \\text{middle} \\\\ U_d = 0 & \\text{down}\\end{cases}$$\n",
    "\n",
    "(keeping all other parameters the same as in part (a))."
   ]
  },
  {
   "cell_type": "markdown",
   "id": "a9f8530e-6150-44ee-b17c-78180c788611",
   "metadata": {},
   "source": [
    "# Question 3 [4 Marks]\n",
    "\n",
    "In the 2-period model described in L7.18, suppose $r > 0$ such that $e^{-r} = 0.9$."
   ]
  },
  {
   "cell_type": "markdown",
   "id": "aee2d224-4f35-4b7f-ac33-f8d935f3720e",
   "metadata": {},
   "source": [
    "## Part A [2 Marks]\n",
    "\n",
    "Find the equivalent martingale measure so that $\\left(e^{-rt}S_t\\right)_{t=0,1,2}$ is a martingale."
   ]
  },
  {
   "cell_type": "markdown",
   "id": "3a3a91be-2174-4a72-9d58-cba487c61269",
   "metadata": {},
   "source": [
    "First solve for $r$:\n",
    "\n",
    "\\begin{align}\n",
    "    e^{-r} &= 0.9 \\\\\n",
    "    r &= - \\ln 0.9 \\\\\n",
    "    &\\approx 0.10536\n",
    "\\end{align}\n",
    "\n",
    "From L7.18, we also have\n",
    "$$S_0 = 100, \\hspace{0.5cm}$$\n",
    "$$S_1(D) = 75 \\hspace{0.75cm} S_1(U) = 115$$\n",
    "$$S_2(DD) = 50 \\hspace{0.75cm} S_2(DU) = S_2(UD) = 100 \\hspace{0.75cm} S_2(UU) = 150$$"
   ]
  },
  {
   "cell_type": "markdown",
   "id": "9913c0b2-c28b-4f2b-852f-b9c486ce1927",
   "metadata": {},
   "source": [
    "## Part B [2 Marks]\n",
    "\n",
    "Compute the arbitrage-free price of a $90$-call option."
   ]
  },
  {
   "cell_type": "markdown",
   "id": "5c0dae63-b8d7-477c-bc4f-2ee6b5764b82",
   "metadata": {},
   "source": [
    "\\begin{align}\n",
    "    S_1(U) &= e^{-rT} \\cdot \\mathbb{E} \\left(S_2 | \\text{first move is } U\\right) \\\\\n",
    "    115 &= e^{-\\left(-\\ln 0.9\\right) \\cdot 2} \\left[ p_u(U) S_2(UU) + \\left(1 - p_u(U)\\right) S_2(UD) \\right] \\\\\n",
    "    115 &= 0.81 \\left[ p_u(U) \\cdot 150 + \\left(1 - p_u(U)\\right) \\cdot 100 \\right] \\\\\n",
    "    \\frac{115}{0.81} &= 150 p_u(U) + 100 - 100 p_u(U) \\\\\n",
    "    141.975 &= 50 p_u(U) \\\\\n",
    "    41.975 &= 50 p_u(U) \\\\\n",
    "    p_u(U) &\\approx 0.8395\n",
    "\\end{align}\n",
    "and\n",
    "\\begin{align}\n",
    "    S_1(D) &= e^{-rT} \\cdot \\mathbb{E} \\left(S_2 | \\text{first move is } D\\right) \\\\\n",
    "    &= e^{-\\left(-\\ln 0.9\\right) \\cdot 2} \\left[ p_u(D) S_2(DU) + \\left(1 - p_u(D)\\right) S_2(DD) \\right] \\\\\n",
    "    &= 0.81 \\left[ p_u(D) \\cdot 100 + \\left(1 - p_u(D)\\right) \\cdot 50 \\right]\n",
    "\\end{align}\n",
    "\n",
    "Finally,\n",
    "\n",
    "\\begin{align}\n",
    "    C_0 &= e^{-rT} \\mathbb{E} \\left(C_1\\right) \\\\\n",
    "    &= e^{-0.10536 T} p_u C_1(U) + \\left(1 - p_u\\right)C_1(D) \\\\\n",
    "    &= \n",
    "\\end{align}\n",
    "\n",
    "\n",
    "Work backwards starting from $T = 2$. We have\n",
    "\n",
    "\\begin{align}\n",
    "    C_2(UU) &= (150 - 90)^+ = 60 \\\\\n",
    "    C_2(UD) = C_2(DU) &= (100 - 90)^+ = 10 \\\\\n",
    "    C_2(DD) &= (50 - 90)^+ = 0\n",
    "\\end{align}\n",
    "\n",
    "Then\n"
   ]
  },
  {
   "cell_type": "markdown",
   "id": "f2029e45-63c1-4287-b5d4-8852cbbce15e",
   "metadata": {},
   "source": [
    "# Question 4 [4 Marks]\n",
    "\n",
    "Suppose $W = \\left(W_t\\right)_{t\\ge 0}$ is a standard Brownian motion. For the following stochastic processes $X$ and $Y$, derive $dX_t$ and $dY_t$. Are they martingales with respect to the filtration generated by $W$?"
   ]
  },
  {
   "cell_type": "markdown",
   "id": "574dfacf-e28f-41da-817b-f318cf992e50",
   "metadata": {},
   "source": [
    "## Part A [2 Marks]\n",
    "\n",
    "$$X_t = e^{\\frac{1}{2}t} \\sin{W_t}, t \\ge 0$$"
   ]
  },
  {
   "cell_type": "markdown",
   "id": "3c95566c-7ca9-4568-9666-846d01f39e71",
   "metadata": {},
   "source": [
    "## Part B [2 Marks]\n",
    "\n",
    "$$Y_t = \\left(W_t + t\\right)\\exp\\left(-W_t - \\frac{1}{2}t\\right), t \\ge 0$$"
   ]
  },
  {
   "cell_type": "markdown",
   "id": "6adc56aa-305f-4924-8324-1e0e302c8e47",
   "metadata": {},
   "source": [
    "# Question 5 [10 Marks]"
   ]
  },
  {
   "cell_type": "markdown",
   "id": "ed6af79f-da03-4486-8e3a-6fdb8bb56536",
   "metadata": {},
   "source": [
    "## Part A [2 Marks]\n",
    "\n",
    "Let $x_1, x_2, ..., x_n$ be a sequence of positive numbers. The geometric average $G$ is defined by\n",
    "\n",
    "$$G = \\left(x_1 x_2 \\cdots x_n\\right)^{\\frac{1}{n}}$$\n",
    "\n",
    "Show that\n",
    "\n",
    "$$G = \\exp\\left(\\frac{1}{n}\\sum_{j=1}^{n} \\log x_j\\right).$$"
   ]
  },
  {
   "cell_type": "markdown",
   "id": "0e32d130-64db-4bec-9e3b-253b1f040064",
   "metadata": {},
   "source": [
    "\\begin{align}\n",
    "    G &= \\left(x_1 x_2 \\cdots x_n\\right)^{\\frac{1}{n}} \\\\\n",
    "    &= \\left(\\prod_{i=1}^{n} x_i \\right)^{\\frac{1}{n}} \\\\\n",
    "    &= \\exp \\log \\left(\\prod_{i=1}^{n} x_i \\right)^{\\frac{1}{n}} \\\\\n",
    "    &= \\exp \\frac{1}{n} \\log \\left(\\prod_{i=1}^{n} x_i \\right) \\\\\n",
    "    &= \\exp \\left( \\frac{1}{n} \\sum_{i=1}^{n} \\log x_i \\right)\n",
    "\\end{align}\n",
    "\n",
    "q.e.d"
   ]
  },
  {
   "cell_type": "markdown",
   "id": "3a90a3ab-f200-40ca-a882-1c296a4b4c58",
   "metadata": {},
   "source": [
    "## Part B [2 Marks]\n",
    "\n",
    "Suppose stock price $\\left(S_t\\right)_{t\\ge 0}$ follows\n",
    "\n",
    "$$\\frac{dS_t}{S_t} = r dt + \\sigma dW_t, \\hspace{0.5cm} t \\ge 0$$\n",
    "\n",
    "where $\\left(W_t\\right)_{t \\ge 0}$ is a standard Brownian motion under risk-neutral measure $\\mathbb{P}$, and $S_0 > 0$ is the today's stock price. Here $r > 0$ is the risk-free interest rate.\n",
    "\n",
    "A geometrically-averaged Asian option pays, at $T > 0$,\n",
    "\n",
    "$$\\left( \\exp \\left(I_T / T\\right) - K\\right)^{+},$$\n",
    "\n",
    "where $K > 0$ is the strike price and\n",
    "\n",
    "$$I_T = \\int_{0}^{T} \\log S_T dt$$\n",
    "\n",
    "Show that\n",
    "\n",
    "$$I_T = T \\log S_0 + \\left(r - \\frac{1}{2} \\sigma^2\\right) T^2 / 2 + \\sigma \\int_{0}^{T} W_t dt$$"
   ]
  },
  {
   "cell_type": "markdown",
   "id": "7f483013-41d5-4230-908e-64c20e70cbfa",
   "metadata": {},
   "source": [
    "## Part C [3 Marks]\n",
    "\n",
    "For every positive integer $N$, let $\\Delta t = T / N$ and $t_k = k \\Delta t, k = 0, ..., N$. We can write\n",
    "\n",
    "$$\\int_{0}^{T} W_t dt = \\lim_{N \\rightarrow \\infty} A_N$$\n",
    "\n",
    "where\n",
    "\n",
    "$$A_n := \\sum_{k=0}^{N-1} W_{t_k} \\Delta t, \\hspace{0.5cm} N \\ge 1.$$\n",
    "\n",
    "What is the distribution of $A_N$? Assuming that the distribution of $A_N$ convergs to that of $\\int_{0}^{T} W_t dt$, what is the distribution of $I_T$?"
   ]
  },
  {
   "cell_type": "markdown",
   "id": "93c325a8-d2ba-4da8-b17f-c95facd3efce",
   "metadata": {},
   "source": [
    "## Part D [3 Marks]\n",
    "\n",
    "Find the time-zero price of the geometrically-averaged Asian option in terms of the standard normal cumulative distribution function $\\mathcal{N}$."
   ]
  }
 ],
 "metadata": {
  "kernelspec": {
   "display_name": "Python 3 (ipykernel)",
   "language": "python",
   "name": "python3"
  },
  "language_info": {
   "codemirror_mode": {
    "name": "ipython",
    "version": 3
   },
   "file_extension": ".py",
   "mimetype": "text/x-python",
   "name": "python",
   "nbconvert_exporter": "python",
   "pygments_lexer": "ipython3",
   "version": "3.10.11"
  }
 },
 "nbformat": 4,
 "nbformat_minor": 5
}
