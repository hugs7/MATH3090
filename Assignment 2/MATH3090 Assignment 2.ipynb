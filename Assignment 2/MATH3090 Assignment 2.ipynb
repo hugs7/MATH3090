{
 "cells": [
  {
   "cell_type": "markdown",
   "id": "32e0910a-ca5f-4860-80f3-bab871ae073f",
   "metadata": {},
   "source": [
    "Student: Hugo Burton (s4698512)\n",
    "Date Due: Tuesday April 23 @ 1pm"
   ]
  },
  {
   "cell_type": "code",
   "execution_count": 1,
   "id": "954cbdb4-1bb8-458f-af61-7040afc2a548",
   "metadata": {},
   "outputs": [],
   "source": [
    "# import math\n",
    "# from typing import Dict\n",
    "# from colorama import Fore, Style\n",
    "# import numpy as np\n",
    "# from IPython.display import Markdown, display\n",
    "\n",
    "import bond\n",
    "# import interest\n",
    "# import newtons\n",
    "# import display as dsp"
   ]
  },
  {
   "cell_type": "markdown",
   "id": "ae8d8c10-1824-4e77-8101-9ca413ae8637",
   "metadata": {},
   "source": [
    "# Question 1 [3 Marks]\n",
    "\n",
    "You have just invested in a $3$-year coupon paying bond with $8\\%$ semi-annual coupons and a face value $F = \\$100,000$. Suppose the coupon-paying bond yield curve is flat at $9\\%$."
   ]
  },
  {
   "cell_type": "markdown",
   "id": "9f5be510-46c5-4c84-90c4-7d3bd340ff11",
   "metadata": {},
   "source": [
    "## Part A [1 Mark]\n",
    "\n",
    "Calculate the present value and the (absolute value of) duration $|D|$ of the bond."
   ]
  },
  {
   "cell_type": "markdown",
   "id": "dc6bc51c-ca3a-4e91-8db0-b9097fec6bf6",
   "metadata": {},
   "source": [
    "We have the following from the question\n",
    "\n",
    "\\begin{align}\n",
    "    y &= 9\\% \\\\\n",
    "    F &= \\$100,000 \\\\\n",
    "    T &= 3 \\hspace{0.15cm} \\text{years} \\\\\n",
    "    c &= 8\\% \\\\\n",
    "    n &= 2 \\hspace{0.25cm} \\text{(semiannual)}\n",
    "\\end{align}\n",
    "\n",
    "Then, we can derive\n",
    "\n",
    "\\begin{align}\n",
    "    C &= c \\cdot F \\\\\n",
    "    &= 0.08 \\cdot \\$100,000 \\\\\n",
    "    &= \\$8,000 \\\\\n",
    "    \\Rightarrow \\frac{C}{2} &= \\$4,000    \n",
    "\\end{align}\n",
    "\n",
    "Now\n",
    "\n",
    "$$|D| = \\sum_{t=1}^{T} \\frac{t \\cdot \\text{PV}_t}{B(y)}$$\n",
    "\n",
    "where\n",
    "\n",
    "$$\\text{PV}_t := \\begin{cases} \\frac{\\frac{C}{n}}{(1+y)^t}, & t\\in[1,T-1] \\\\ \\frac{\\frac{C}{n}+F}{(1+y)^T}, & t = T \\end{cases}$$\n",
    "\n",
    "The present values are\n",
    "\n",
    "\\begin{align}\n",
    "    PV_{0.5} &= \\frac{4000}{(1+0.09)^{0.5}} \\\\\n",
    "    &\\approx 3831.31\n",
    "\\end{align}\n",
    "\n",
    "\\begin{align}\n",
    "    PV_{1} &= \\frac{4000}{(1+0.09)^1} \\\\\n",
    "    &\\approx 3669.72\n",
    "\\end{align}\n",
    "\n",
    "\\begin{align}\n",
    "    PV_{1.5} &= \\frac{4000}{(1+0.09)^{1.5}} \\\\\n",
    "    &\\approx 3514.96\n",
    "\\end{align}\n",
    "\n",
    "Finally, we have\n",
    "\n",
    "\\begin{align}\n",
    "    |D| &= \\sum_{t=1}^{T} \\frac{t \\cdot \\text{PV}_t}{B(y)} \\\\\n",
    "\\end{align}\n",
    "\n"
   ]
  },
  {
   "cell_type": "code",
   "execution_count": 2,
   "id": "3e6f54f2-50be-453b-a1e5-57b0defb554f",
   "metadata": {},
   "outputs": [
    {
     "name": "stdout",
     "output_type": "stream",
     "text": [
      "Present value: 97421.06375864633\n",
      "Bond Duration 2.7217014098798824\n"
     ]
    }
   ],
   "source": [
    "# Calculate the present values\n",
    "\n",
    "T = 3\n",
    "n = 2\n",
    "y = 0.09\n",
    "c = 0.08\n",
    "F = 100_000\n",
    "\n",
    "present_values = bond.present_values_coupon_bearing_bond_discrete(\n",
    "    F, T, c, y, n)\n",
    "\n",
    "present_val = sum(present_values)\n",
    "\n",
    "print(f\"Present value: {present_val}\")\n",
    "\n",
    "# Bond Duration\n",
    "\n",
    "bond_duration = bond.bond_duration_discrete(F, T, c, y, n)\n",
    "\n",
    "print(\"Bond Duration\", bond_duration)"
   ]
  },
  {
   "cell_type": "markdown",
   "id": "3b0d7a00-49ce-4968-afef-177f36d02552",
   "metadata": {},
   "source": [
    "## Part B [1 Mark]\n",
    "\n",
    "Now calculate the value of the bond in $|D|$ years time."
   ]
  },
  {
   "cell_type": "markdown",
   "id": "da6f2c10-59ff-4898-b3e8-8b792f86d08a",
   "metadata": {},
   "source": [
    "The value of a bond in $|D|$ years time is given by the formula\n",
    "slide 44 w4\n",
    "\n",
    "Coupon value\n",
    "$$\\$100,000 \\cdot 0.08 = \\$8,000$$\n",
    "\n",
    "$$B_D = \\frac{b}{c} \\left(1 + y\\right)$$\n",
    "\n",
    "Therefore, it is a matter of substituting the values where\n",
    "\n",
    "\\begin{align}\n",
    "    y &= 9\\% \\\\\n",
    "    F &= \\$100,000 \\\\\n",
    "\\end{align}\n",
    "\n",
    "Compute the value of the coupons at time $|D|$ since these can be reinvested upon receipting.\n",
    "\n",
    "Coupon received at time $0.5$.\n",
    "\\begin{align}\n",
    "    C_{0.5} &= 8,000 \\cdot 1.09^{|D|-0.5} \\\\\n",
    "    &= \n",
    "Hence, we have\n",
    "\n",
    "\\begin{align}\n",
    "    B &= \\frac{}{} \\\\\n",
    "    &= \n",
    "\\end{align}"
   ]
  },
  {
   "cell_type": "code",
   "execution_count": 5,
   "id": "75fbcc84-e642-4ba8-a349-9cb00b29f7ff",
   "metadata": {},
   "outputs": [
    {
     "name": "stdout",
     "output_type": "stream",
     "text": [
      "Time step 1, year 0.5, reinvestment time 2.2217014098798824, coupon value 4000.0\n",
      "Time step 2, year 1.0, reinvestment time 1.7217014098798824, coupon value 4000.0\n",
      "Time step 3, year 1.5, reinvestment time 1.2217014098798824, coupon value 4000.0\n",
      "Time step 4, year 2.0, reinvestment time 0.7217014098798824, coupon value 4000.0\n",
      "Time step 5, year 2.5, reinvestment time 0.2217014098798824, coupon value 4000.0\n",
      "[4844.0709392911895, 4639.778473129013, 4444.101779166228, 4256.677498283498, 4077.157595565347, 101535.42656456049]\n",
      "The bond value at |D| is:  123797.21284999576\n"
     ]
    }
   ],
   "source": [
    "val_at_d = bond.bond_value_at_time(bond_duration, F, T, c, y, n)\n",
    "\n",
    "print(\"The bond value at |D| is: \", val_at_d)"
   ]
  },
  {
   "cell_type": "markdown",
   "id": "516b91a5-37aa-46dc-91a2-05999392e771",
   "metadata": {},
   "source": [
    "## Part C [1 Mark]\n",
    "\n",
    "Suppose that, immediately after buying the bond, the yield curve shifted up to be flat at $10\\%$. Now calculate the value of the bond again in $|D|$ years time under the new yield curve (don't calculate D again). Compare your answer with what you obtained in (b)."
   ]
  },
  {
   "cell_type": "code",
   "execution_count": null,
   "id": "43748e59-d2cb-41a6-aaf7-98e65d0d7025",
   "metadata": {
    "scrolled": true
   },
   "outputs": [],
   "source": [
    "# Compute bond value with new interest rate of 10% and compare values\n",
    "\n",
    "y_new = 0.10\n",
    "\n",
    "val_at_d_yield_shift = bond.bond_value_at_time(bond_duration, F, T, y_new, n)\n",
    "\n",
    "print(f\"The new bond value at |D| with y = {y_new:.2f} is {val_at_d_yield_shift}\")\n",
    "\n",
    "# Compare differences\n",
    "\n",
    "difference = val_at_d_yield_shift - val_at_d\n",
    "\n",
    "print(difference)"
   ]
  },
  {
   "cell_type": "markdown",
   "id": "b0c749d7-0cea-430e-8042-a07d419e73e2",
   "metadata": {},
   "source": [
    "We see the new value with $y = 10\\%$ is higher by $\\sim \\$3,810$. This increase is due the the coupons attaining a higher interest rate as they are able to be reinvested upon receiving them. The coupon rate is quite high for this bond at $\\$4,000$ every $6$ months which explains this increase."
   ]
  },
  {
   "cell_type": "markdown",
   "id": "a61eab0a-0906-41b6-9549-afd7018bf0fa",
   "metadata": {},
   "source": [
    "# Question 2 [7 Marks]\n",
    "\n",
    "Assume that you observe the following yield curve for government's coupon paying bonds.\n",
    "\n",
    "* There are a total of 20 bonds\n",
    "* For the $k$-th bond, $k = 1,...,20$, the maturity is $k$ years.\n",
    "* The face value is $F = \\$100,000$ and the coupon rate for the $k$-th bond, $k = 1,...,20$, is $c = 4\\%$. Let $C = cF$.\n",
    "* The price of the bonds $(P(k), k = 1,2,...,20$) are given by\n",
    "\n",
    "  \\begin{align}\n",
    "      & [P(1),P(2),...,P(20)] \\\\\n",
    "      =& [99412, 97339, 94983, 94801, 94699, 94454, 93701, 93674, 93076, 92814, \\\\\n",
    "       & \\hspace{0.25cm} 91959, 91664, 87384, 87329, 86576, 84697, 82642, 82350, 82207, 81725].\n",
    "  \\end{align}\n",
    "* Denote by $y_{0,k}$ the spot zero-coupon bond yield curve, and by $y_{k-1,k}$ the implied one-year forward rates.\n",
    "\n",
    "Assume that all coupon payments are made <u>annually</u>. Use <u>continuous compounding</u>."
   ]
  },
  {
   "cell_type": "markdown",
   "id": "003063aa-b80f-4f1c-9342-c99bf8b52ecf",
   "metadata": {},
   "source": [
    "## Part A [1 Mark]\n",
    "\n",
    "Show that\n",
    "\n",
    "$$y_{0,k} = \\frac{1}{k} \\log \\left(\\frac{C+F}{P(k) - C \\sum_{j=1}^{k-1} e^{-y_{0,j}\\times j}}\\right), \\hspace{0.5cm} 1 \\le k \\le 20.$$\n"
   ]
  },
  {
   "cell_type": "markdown",
   "id": "8b2e3669-9d39-47fe-be37-aa07cd39bea5",
   "metadata": {},
   "source": [
    "In general, we have for bond $k$ the cashflow\n",
    "\n",
    "$$\\underbrace{C + C + \\cdots + C}_{T - 1} + C + F$$\n",
    "\n",
    "over the lifespan of the bond. Therefore, with exception to the final coupon payment, there are $T - 1$ coupon payments. Denote\n",
    "\n",
    "\\begin{align}\n",
    "    V_t &:= \\frac{C}{e^{y_{0,t} \\cdot t}}, \\hspace{0.5cm} \\forall t \\in [1, T-1] \\\\\n",
    "    &= C e^{y_{0,t} \\cdot t}, \\hspace{0.5cm} \\forall t \\in [1, T-1]\n",
    "\\end{align}\n",
    "\n",
    "as the value of coupon payment $t \\in [1,T-1]$ for any of the $k$ bonds in the question. Next, the stripped price of bond $k$ can be written as follows. Note $T = k$ in our example, hence we can perform the variable substitution $T = k$.\n",
    "\n",
    "\\begin{align}\n",
    "    P'(k) &:= P(k) - \\sum_{j=1}^{T-1}V_j, \\hspace{0.5cm} \\forall k \\in [1, 20] \\\\\n",
    "    &= P(k) - \\sum_{j=1}^{k-1} C e^{y_{0,j} \\cdot j}, \\hspace{0.5cm} \\forall k \\in [1, 20]\n",
    "\\end{align}\n",
    "\n",
    "Now equate the stripped price of the bond, $P'(k)$ with the equivalent zero-coupon bond (maturing at $T = k$ years with rate $y_{0,T} = y_{0,k}$ to compute the spot zero-coupon yield rate.\n",
    "\n",
    "\\begin{align}\n",
    "    \\frac{C + F}{e^{y_{0,T} \\cdot T}} &= P'(k) \\\\\n",
    "    \\frac{C + F}{e^{y_{0,k} \\cdot k}} &= P(k) - \\sum_{j=1}^{k-1} C e^{y_{0,j} \\cdot j} \\\\\n",
    "    e^{y_{0,k} \\cdot k} &= \\frac{C + F}{P(k) - C\\sum_{j=1}^{k-1} e^{y_{0,j} \\cdot j}} \\\\\n",
    "    y_{0,k} \\cdot k &= \\ln \\left(\\frac{C + F}{P(k) - C\\sum_{j=1}^{k-1} e^{y_{0,j} \\cdot j}}\\right) \\\\\n",
    "    y_{0,k} &= \\frac{1}{k} \\ln \\left(\\frac{C + F}{P(k) - C\\sum_{j=1}^{k-1} e^{y_{0,j} \\cdot j}}\\right), \\hspace{0.5cm} \\forall k \\in [1, 20]\n",
    "\\end{align}\n",
    "\n",
    "As given in the question. Note the question uses $\\log$, though I prefer to use $\\ln$ to specify this is the natural log which is derived from using continuous compounding."
   ]
  },
  {
   "cell_type": "markdown",
   "id": "e1b18981-b417-416e-bbde-57d861329c16",
   "metadata": {},
   "source": [
    "## Part B [2 Marks]\n",
    "\n",
    "Implement a Matlab/Python program to compute spot zero-coupon bond yield curve $y_{0,k}$ and the implied one-year forward rates $y_{k-1,k}$. Submit Table 1 filled with computed value."
   ]
  },
  {
   "cell_type": "code",
   "execution_count": null,
   "id": "45c366db-da89-40b6-9c04-cc0c929922ef",
   "metadata": {},
   "outputs": [],
   "source": []
  },
  {
   "cell_type": "markdown",
   "id": "49bb6a1a-2e71-460c-9de7-eb18b72d80d2",
   "metadata": {},
   "source": [
    "## Part C [3 Marks]\n",
    "\n",
    "Suppose you enter into a 20-year vanilla fixed-for-floating swap on a notional principal of $\\$1,000,000$ where you pay the fixed rate of $6.5\\%$ and the counter-party pays the yield curve plus $1\\%$.\n",
    "\n",
    "Code in Matlab/Python a program to compute the swap value. Submit a table of results, similar to the table on L5.15."
   ]
  },
  {
   "cell_type": "markdown",
   "id": "d12b7468-9582-467c-acf7-b1154bd2cf88",
   "metadata": {},
   "source": [
    "## Part E [1 Mark]\n",
    "\n",
    "Test with different fixed rates and provide a better approximation of the swap rate so that the swap value is near zero (you do not need to develop a new code)."
   ]
  },
  {
   "cell_type": "markdown",
   "id": "f8c6ecbd-3ad2-47ac-9342-421de3e02bc9",
   "metadata": {},
   "source": [
    "# Question 3 [6 Marks]\n",
    "\n",
    "Assume annual time periods, $T = 3$, a binomial model of the yield curve, and $y_{0,1} = 2\\%$. Suppose over the whole forward rate lattice that the next period's forward rates can either go up by a factor of $u = 1.3$ with a probability of $p = 60\\%$ or down by a factor of $d = 0.9$. (For example $y(u) = y_{0,1} \\times u = 0.02 \\times 1.3 = 0.026$ or $2.6\\%$, $y(uu) = y_{0,1} \\times u \\times u$ and so on.) Use discrete compounding."
   ]
  },
  {
   "cell_type": "markdown",
   "id": "284368c2-8030-4ee4-9242-83342471a800",
   "metadata": {},
   "source": [
    "## Part A [4 Marks]\n",
    "\n",
    "Construct the forward rate lattice and the zero coupon bond yield curve $y_{0,2}$ and $y_{0,3}$."
   ]
  },
  {
   "cell_type": "markdown",
   "id": "f9124df2-0de3-4cfa-baad-db611ed6c096",
   "metadata": {},
   "source": [
    "## Part B [2 Marks]\n",
    "\n",
    "Construct the 1-period forward rates $y_{1,2}$ and $y_{2,3}$, which are embedded in this zero coupon bond yield curve (we already have $y_{0,1}$."
   ]
  },
  {
   "cell_type": "markdown",
   "id": "c7bdffd4-92cc-4de6-b480-1bdc1b55eaa0",
   "metadata": {},
   "source": [
    "## Question 4 [3 Marks]\n",
    "\n",
    "Consider the payoff at maturity $T$ in Figure 1. Show how to construct this payoff using <u>European calls with the same maturity only</u> (you can use any combination of European calls with any strike price). You must state long/short, strike prices as well as the number of units. In addition, express the current value of the (replicating) portfolio in terms of the current prices of strike-$K$ European calls $C_0(K), K > 0$.\n",
    "\n",
    "<div style=\"text-align:center\"><img src=\"assets/figure_1.png\" alt=\"Figure 1\" /></div>\n",
    "\n"
   ]
  },
  {
   "cell_type": "markdown",
   "id": "3e52aa35-8cc5-4114-b485-b992a415e1c3",
   "metadata": {},
   "source": [
    "# Question 5 [5 Marks]\n",
    "\n",
    "Given a stock whose time-$t$ price is $S_t$, consider a derivative that pays $e^{S_T}$ at maturity $T$ (the writer pays $e^{S_T}$ to the holder; the holder pays nothing to the writer). We assume that there is also a (risk-free) zero-coupon bond with maturity $T$ and face value $1$, whose time-$0$ price is $Z_0$. Let $C_0$ be the arbitrage-free time-$0$ price of the derivative. Answer the following."
   ]
  },
  {
   "cell_type": "markdown",
   "id": "f25ed481-bc27-4238-806d-99024dfcaea0",
   "metadata": {},
   "source": [
    "## Part A [2 Marks]\n",
    "\n",
    "Support $S_T$ can take any positive value with strictly positive probability (under the physical probability measure $P$), and hence $P(S_T > M) > 0$ for any $M > 0$. Show that the considered derivative cannot be super-replicated if only the stock and bond are available in the market."
   ]
  },
  {
   "cell_type": "markdown",
   "id": "79bfd2f2-9b72-408d-8b07-3d80f6d2a264",
   "metadata": {},
   "source": [
    "## Part B [3 Marks]\n",
    "\n",
    "Show that\n",
    "\n",
    "$$C_0 \\ge e^{\\frac{S_0}{Z_0}} Z_0$$"
   ]
  }
 ],
 "metadata": {
  "kernelspec": {
   "display_name": "Python 3 (ipykernel)",
   "language": "python",
   "name": "python3"
  },
  "language_info": {
   "codemirror_mode": {
    "name": "ipython",
    "version": 3
   },
   "file_extension": ".py",
   "mimetype": "text/x-python",
   "name": "python",
   "nbconvert_exporter": "python",
   "pygments_lexer": "ipython3",
   "version": "3.11.3"
  }
 },
 "nbformat": 4,
 "nbformat_minor": 5
}
