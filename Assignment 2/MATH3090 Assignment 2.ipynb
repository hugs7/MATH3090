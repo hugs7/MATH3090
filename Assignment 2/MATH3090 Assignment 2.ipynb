{
 "cells": [
  {
   "cell_type": "markdown",
   "id": "32e0910a-ca5f-4860-80f3-bab871ae073f",
   "metadata": {},
   "source": [
    "# MATH3090 Assignment 2\n",
    "\n",
    "Student: Hugo Burton (s4698512)\n",
    "Date Due: Tuesday April 23 @ 1pm"
   ]
  },
  {
   "cell_type": "code",
   "execution_count": 6,
   "id": "954cbdb4-1bb8-458f-af61-7040afc2a548",
   "metadata": {},
   "outputs": [],
   "source": [
    "# import math\n",
    "# from typing import Dict\n",
    "from colorama import Fore, Style\n",
    "# import numpy as np\n",
    "from IPython.display import Markdown, display\n",
    "\n",
    "import bond\n",
    "import swap\n",
    "\n",
    "from lattice import BinNode, BinLattice\n",
    "# import interest\n",
    "# import newtons\n",
    "import display as dsp"
   ]
  },
  {
   "cell_type": "markdown",
   "id": "ae8d8c10-1824-4e77-8101-9ca413ae8637",
   "metadata": {},
   "source": [
    "# Question 1 [3 Marks]\n",
    "\n",
    "You have just invested in a $3$-year coupon paying bond with $8\\%$ semi-annual coupons and a face value $F = \\$100,000$. Suppose the coupon-paying bond yield curve is flat at $9\\%$."
   ]
  },
  {
   "cell_type": "markdown",
   "id": "9f5be510-46c5-4c84-90c4-7d3bd340ff11",
   "metadata": {},
   "source": [
    "## Part A [1 Mark]\n",
    "\n",
    "Calculate the present value and the (absolute value of) duration $|D|$ of the bond."
   ]
  },
  {
   "cell_type": "markdown",
   "id": "dc6bc51c-ca3a-4e91-8db0-b9097fec6bf6",
   "metadata": {},
   "source": [
    "We have the following from the question\n",
    "\n",
    "\\begin{align}\n",
    "    y &= 9\\% \\\\\n",
    "    F &= \\$100,000 \\\\\n",
    "    T &= 3 \\hspace{0.15cm} \\text{years} \\\\\n",
    "    c &= 8\\% \\\\\n",
    "    n &= 2 \\hspace{0.25cm} \\text{(semiannual)}\n",
    "\\end{align}\n",
    "\n",
    "Then, we can derive\n",
    "\n",
    "\\begin{align}\n",
    "    C &= c \\cdot F \\\\\n",
    "    &= 0.08 \\cdot \\$100,000 \\\\\n",
    "    &= \\$8,000 \\\\\n",
    "    \\Rightarrow \\frac{C}{2} &= \\$4,000    \n",
    "\\end{align}\n",
    "\n",
    "Now\n",
    "\n",
    "$$|D| = \\sum_{t=1}^{T} \\frac{t \\cdot \\text{PV}_t}{B(y)}$$\n",
    "\n",
    "where\n",
    "\n",
    "$$\\text{PV}_t := \\begin{cases} \\frac{\\frac{C}{n}}{(1+y)^t}, & t\\in[1,T-1] \\\\ \\frac{\\frac{C}{n}+F}{(1+y)^T}, & t = T \\end{cases}$$\n",
    "\n",
    "The present values are\n",
    "\n",
    "\\begin{align}\n",
    "    PV_{0.5} &= \\frac{4000}{(1+0.09)^{0.5}} \\\\\n",
    "    &\\approx 3831.31\n",
    "\\end{align}\n",
    "\n",
    "\\begin{align}\n",
    "    PV_{1} &= \\frac{4000}{(1+0.09)^1} \\\\\n",
    "    &\\approx 3669.72\n",
    "\\end{align}\n",
    "\n",
    "\\begin{align}\n",
    "    PV_{1.5} &= \\frac{4000}{(1+0.09)^{1.5}} \\\\\n",
    "    &\\approx 3514.96\n",
    "\\end{align}\n",
    "\n",
    "Finally, we have\n",
    "\n",
    "\\begin{align}\n",
    "    |D| &= \\sum_{t=1}^{T} \\frac{t \\cdot \\text{PV}_t}{B(y)} \\\\\n",
    "\\end{align}\n",
    "\n"
   ]
  },
  {
   "cell_type": "code",
   "execution_count": 7,
   "id": "3e6f54f2-50be-453b-a1e5-57b0defb554f",
   "metadata": {},
   "outputs": [
    {
     "name": "stdout",
     "output_type": "stream",
     "text": [
      "Present value: 97421.06375864633\n",
      "Bond Duration 2.7217014098798824\n"
     ]
    }
   ],
   "source": [
    "# Calculate the present values\n",
    "\n",
    "T = 3\n",
    "n = 2\n",
    "y = 0.09\n",
    "c = 0.08\n",
    "F = 100_000\n",
    "\n",
    "present_values = bond.present_values_coupon_bearing_bond_discrete(\n",
    "    F, T, c, y, n)\n",
    "\n",
    "present_val = sum(present_values)\n",
    "\n",
    "print(f\"Present value: {present_val}\")\n",
    "\n",
    "# Bond Duration\n",
    "\n",
    "bond_duration = bond.bond_duration_discrete(F, T, c, y, n)\n",
    "\n",
    "print(\"Bond Duration\", bond_duration)"
   ]
  },
  {
   "cell_type": "markdown",
   "id": "3b0d7a00-49ce-4968-afef-177f36d02552",
   "metadata": {},
   "source": [
    "## Part B [1 Mark]\n",
    "\n",
    "Now calculate the value of the bond in $|D|$ years time."
   ]
  },
  {
   "cell_type": "markdown",
   "id": "da6f2c10-59ff-4898-b3e8-8b792f86d08a",
   "metadata": {},
   "source": [
    "The value of a bond in $|D|$ years time is given by the formula\n",
    "slide 44 w4\n",
    "\n",
    "Coupon value\n",
    "$$\\$100,000 \\cdot 0.08 = \\$8,000$$\n",
    "\n",
    "$$B_D = \\frac{b}{c} \\left(1 + y\\right)$$\n",
    "\n",
    "Therefore, it is a matter of substituting the values where\n",
    "\n",
    "\\begin{align}\n",
    "    y &= 9\\% \\\\\n",
    "    F &= \\$100,000 \\\\\n",
    "\\end{align}\n",
    "\n",
    "Compute the value of the coupons at time $|D|$ since these can be reinvested upon receipting.\n",
    "\n",
    "Coupon received at time $0.5$.\n",
    "\\begin{align}\n",
    "    C_{0.5} &= 8,000 \\cdot 1.09^{|D|-0.5} \\\\\n",
    "    &= \n",
    "Hence, we have\n",
    "\n",
    "\\begin{align}\n",
    "    B &= \\frac{}{} \\\\\n",
    "    &= \n",
    "\\end{align}"
   ]
  },
  {
   "cell_type": "code",
   "execution_count": 8,
   "id": "75fbcc84-e642-4ba8-a349-9cb00b29f7ff",
   "metadata": {},
   "outputs": [
    {
     "name": "stdout",
     "output_type": "stream",
     "text": [
      "Time step 1, year 0.5, reinvestment time 2.2217014098798824, coupon value 4000.0\n",
      "Time step 2, year 1.0, reinvestment time 1.7217014098798824, coupon value 4000.0\n",
      "Time step 3, year 1.5, reinvestment time 1.2217014098798824, coupon value 4000.0\n",
      "Time step 4, year 2.0, reinvestment time 0.7217014098798824, coupon value 4000.0\n",
      "Time step 5, year 2.5, reinvestment time 0.2217014098798824, coupon value 4000.0\n",
      "[4844.0709392911895, 4639.778473129013, 4444.101779166228, 4256.677498283498, 4077.157595565347, 101535.42656456049]\n",
      "The bond value at |D| is:  123797.21284999576\n"
     ]
    }
   ],
   "source": [
    "val_at_d = bond.bond_value_at_time(bond_duration, F, T, c, y, n)\n",
    "\n",
    "print(\"The bond value at |D| is: \", val_at_d)"
   ]
  },
  {
   "cell_type": "markdown",
   "id": "516b91a5-37aa-46dc-91a2-05999392e771",
   "metadata": {},
   "source": [
    "## Part C [1 Mark]\n",
    "\n",
    "Suppose that, immediately after buying the bond, the yield curve shifted up to be flat at $10\\%$. Now calculate the value of the bond again in $|D|$ years time under the new yield curve (don't calculate D again). Compare your answer with what you obtained in (b)."
   ]
  },
  {
   "cell_type": "code",
   "execution_count": 9,
   "id": "43748e59-d2cb-41a6-aaf7-98e65d0d7025",
   "metadata": {
    "scrolled": true
   },
   "outputs": [
    {
     "name": "stdout",
     "output_type": "stream",
     "text": [
      "Time step 1, year 0.5, reinvestment time 2.2217014098798824, coupon value 4000.0\n",
      "Time step 2, year 1.0, reinvestment time 1.7217014098798824, coupon value 4000.0\n",
      "Time step 3, year 1.5, reinvestment time 1.2217014098798824, coupon value 4000.0\n",
      "Time step 4, year 2.0, reinvestment time 0.7217014098798824, coupon value 4000.0\n",
      "Time step 5, year 2.5, reinvestment time 0.2217014098798824, coupon value 4000.0\n",
      "[4943.359308074073, 4713.3081654476055, 4493.963007340066, 4284.825604952368, 4085.420915763696, 101277.69611705597]\n",
      "The new bond value at |D| with y = 0.10 is 123798.57311863377\n",
      "1.3602686380036175\n"
     ]
    }
   ],
   "source": [
    "# Compute bond value with new interest rate of 10% and compare values\n",
    "\n",
    "y_new = 0.10\n",
    "\n",
    "val_at_d_yield_shift = bond.bond_value_at_time(bond_duration, F, T, c, y_new, n)\n",
    "\n",
    "print(f\"The new bond value at |D| with y = {y_new:.2f} is {val_at_d_yield_shift}\")\n",
    "\n",
    "# Compare differences\n",
    "\n",
    "difference = val_at_d_yield_shift - val_at_d\n",
    "\n",
    "print(difference)"
   ]
  },
  {
   "cell_type": "markdown",
   "id": "b0c749d7-0cea-430e-8042-a07d419e73e2",
   "metadata": {},
   "source": [
    "We see the new value with $y = 10\\%$ is higher by $\\sim \\$3,810$. This increase is due the the coupons attaining a higher interest rate as they are able to be reinvested upon receiving them. The coupon rate is quite high for this bond at $\\$4,000$ every $6$ months which explains this increase."
   ]
  },
  {
   "cell_type": "markdown",
   "id": "a61eab0a-0906-41b6-9549-afd7018bf0fa",
   "metadata": {},
   "source": [
    "# Question 2 [7 Marks]\n",
    "\n",
    "Assume that you observe the following yield curve for government's coupon paying bonds.\n",
    "\n",
    "* There are a total of 20 bonds\n",
    "* For the $k$-th bond, $k = 1,...,20$, the maturity is $k$ years.\n",
    "* The face value is $F = \\$100,000$ and the coupon rate for the $k$-th bond, $k = 1,...,20$, is $c = 4\\%$. Let $C = cF$.\n",
    "* The price of the bonds $(P(k), k = 1,2,...,20$) are given by\n",
    "\n",
    "  \\begin{align}\n",
    "      & [P(1),P(2),...,P(20)] \\\\\n",
    "      =& [99412, 97339, 94983, 94801, 94699, 94454, 93701, 93674, 93076, 92814, \\\\\n",
    "       & \\hspace{0.25cm} 91959, 91664, 87384, 87329, 86576, 84697, 82642, 82350, 82207, 81725].\n",
    "  \\end{align}\n",
    "* Denote by $y_{0,k}$ the spot zero-coupon bond yield curve, and by $y_{k-1,k}$ the implied one-year forward rates.\n",
    "\n",
    "Assume that all coupon payments are made <u>annually</u>. Use <u>continuous compounding</u>."
   ]
  },
  {
   "cell_type": "markdown",
   "id": "003063aa-b80f-4f1c-9342-c99bf8b52ecf",
   "metadata": {},
   "source": [
    "## Part A [1 Mark]\n",
    "\n",
    "Show that\n",
    "\n",
    "$$y_{0,k} = \\frac{1}{k} \\log \\left(\\frac{C+F}{P(k) - C \\sum_{j=1}^{k-1} e^{-y_{0,j}\\times j}}\\right), \\hspace{0.5cm} 1 \\le k \\le 20.$$\n"
   ]
  },
  {
   "cell_type": "markdown",
   "id": "8b2e3669-9d39-47fe-be37-aa07cd39bea5",
   "metadata": {},
   "source": [
    "In general, we have for bond $k$ the cashflow\n",
    "\n",
    "$$\\underbrace{C + C + \\cdots + C}_{T - 1} + C + F$$\n",
    "\n",
    "over the lifespan of the bond. Therefore, with exception to the final coupon payment, there are $T - 1$ coupon payments. Denote\n",
    "\n",
    "\\begin{align}\n",
    "    V_t &:= \\frac{C}{e^{y_{0,t} \\cdot t}}, \\hspace{0.5cm} \\forall t \\in [1, T-1] \\\\\n",
    "    &= C e^{y_{0,t} \\cdot t}, \\hspace{0.5cm} \\forall t \\in [1, T-1]\n",
    "\\end{align}\n",
    "\n",
    "as the value of coupon payment $t \\in [1,T-1]$ for any of the $k$ bonds in the question. Next, the stripped price of bond $k$ can be written as follows. Note $T = k$ in our example, hence we can perform the variable substitution $T = k$.\n",
    "\n",
    "\\begin{align}\n",
    "    P'(k) &:= P(k) - \\sum_{j=1}^{T-1}V_j, \\hspace{0.5cm} \\forall k \\in [1, 20] \\\\\n",
    "    &= P(k) - \\sum_{j=1}^{k-1} C e^{y_{0,j} \\cdot j}, \\hspace{0.5cm} \\forall k \\in [1, 20]\n",
    "\\end{align}\n",
    "\n",
    "Now equate the stripped price of the bond, $P'(k)$ with the equivalent zero-coupon bond (maturing at $T = k$ years with rate $y_{0,T} = y_{0,k}$ to compute the spot zero-coupon yield rate.\n",
    "\n",
    "\\begin{align}\n",
    "    \\frac{C + F}{e^{y_{0,T} \\cdot T}} &= P'(k) \\\\\n",
    "    \\frac{C + F}{e^{y_{0,k} \\cdot k}} &= P(k) - \\sum_{j=1}^{k-1} C e^{y_{0,j} \\cdot j} \\\\\n",
    "    e^{y_{0,k} \\cdot k} &= \\frac{C + F}{P(k) - C\\sum_{j=1}^{k-1} e^{y_{0,j} \\cdot j}} \\\\\n",
    "    y_{0,k} \\cdot k &= \\ln \\left(\\frac{C + F}{P(k) - C\\sum_{j=1}^{k-1} e^{y_{0,j} \\cdot j}}\\right) \\\\\n",
    "    y_{0,k} &= \\frac{1}{k} \\ln \\left(\\frac{C + F}{P(k) - C\\sum_{j=1}^{k-1} e^{y_{0,j} \\cdot j}}\\right), \\hspace{0.5cm} \\forall k \\in [1, 20]\n",
    "\\end{align}\n",
    "\n",
    "As given in the question. Note the question uses $\\log$, though I prefer to use $\\ln$ to specify this is the natural log which is derived from using continuous compounding."
   ]
  },
  {
   "cell_type": "markdown",
   "id": "e1b18981-b417-416e-bbde-57d861329c16",
   "metadata": {},
   "source": [
    "## Part B [2 Marks]\n",
    "\n",
    "Implement a Matlab/Python program to compute spot zero-coupon bond yield curve $y_{0,k}$ and the implied one-year forward rates $y_{k-1,k}$. Submit Table 1 filled with computed value."
   ]
  },
  {
   "cell_type": "code",
   "execution_count": 10,
   "id": "45c366db-da89-40b6-9c04-cc0c929922ef",
   "metadata": {},
   "outputs": [
    {
     "name": "stdout",
     "output_type": "stream",
     "text": [
      "spot: [0.04511806841936526, 0.053132056235070724, 0.05734521409873233, 0.05335508647250839, 0.050780903972364316, 0.04938139998673491, 0.049383931165791914, 0.04816122544740604, 0.048148913890770674, 0.04766102157846544, 0.048154300142212246, 0.047828411831899065, 0.053244919173583226, 0.052321729117423374, 0.05250089608418433, 0.054306886803872335, 0.05637468147851199, 0.05584628670745814, 0.055177319296864064, 0.055071831950370055]\n",
      "\n",
      "forward: [0.04511806841936526, 0.061146044050776185, 0.06577152982605555, 0.04138470359383656, 0.04048417397178805, 0.04238388005858784, 0.04939911824013393, 0.03960228541870492, 0.048050421437687785, 0.043269990767718314, 0.0530870857796803, 0.04424364041845408, 0.11824300727379311, 0.04032025838734532, 0.055009233618837805, 0.08139674759919235, 0.08945939627274646, 0.046863575599542795, 0.04313590590617067, 0.053067572366983784]\n"
     ]
    }
   ],
   "source": [
    "bond_prices = [\n",
    "    99412,\n",
    "    97339,\n",
    "    94983,\n",
    "    94801,\n",
    "    94699,\n",
    "    94454,\n",
    "    93701,\n",
    "    93674,\n",
    "    93076,\n",
    "    92814,\n",
    "    91959,\n",
    "    91664,\n",
    "    87384,\n",
    "    87329,\n",
    "    86576,\n",
    "    84697,\n",
    "    82642,\n",
    "    82350,\n",
    "    82207,\n",
    "    81725,\n",
    "]\n",
    "\n",
    "num_bonds = 20\n",
    "assert(len(bond_prices) == num_bonds)\n",
    "F = 100_000\n",
    "c = 0.04\n",
    "n = 1  # annual\n",
    "T = [k for k in range(1, num_bonds + 1)]\n",
    "\n",
    "spot_rates, forward_rates = bond.recursive_zero_coupon_yield_continuous(\n",
    "    bond_prices, F, T, c, n\n",
    ")\n",
    "\n",
    "print(f\"spot: {spot_rates}\")\n",
    "print()\n",
    "print(f\"forward: {forward_rates}\")\n",
    "\n",
    "# Yet to put this into nice table"
   ]
  },
  {
   "cell_type": "markdown",
   "id": "49bb6a1a-2e71-460c-9de7-eb18b72d80d2",
   "metadata": {},
   "source": [
    "## Part C [3 Marks]\n",
    "\n",
    "Suppose you enter into a 20-year vanilla fixed-for-floating swap on a notional principal of $\\$1,000,000$ where you pay the fixed rate of $6.5\\%$ and the counter-party pays the yield curve plus $1\\%$.\n",
    "\n",
    "Code in Matlab/Python a program to compute the swap value. Submit a table of results, similar to the table on L5.15."
   ]
  },
  {
   "cell_type": "code",
   "execution_count": 11,
   "id": "258afe4d-5387-43b2-bb8f-208d7684d13e",
   "metadata": {},
   "outputs": [
    {
     "name": "stdout",
     "output_type": "stream",
     "text": [
      "swap values: [9445.98636821212, -5526.4437119620225, -9069.080528087037, 10998.66113684129, 11260.882389295364, 9381.005531400635, 3963.9322472436543, 10474.34873929153, 4505.68888133135, 7282.9808363432685, 1126.2916917879927, 6059.069416477923, -31651.977133215685, 7056.606103727554, -4.201063064452104, -11071.017047397096, -13215.787348072476, 2977.600157893418, 4158.471043944228, 642.3258268560593]\n",
      "\n",
      "Sum Swap: 18795.34353884762\n"
     ]
    }
   ],
   "source": [
    "notional = 1_000_000   # $\n",
    "fixed_rate = 0.065     # %\n",
    "floating_spread = 0.01 # %\n",
    "\n",
    "# We have spot and forward rates from part b\n",
    "\n",
    "swap_values = swap.compute_swap_values(\n",
    "    notional, T, n, spot_rates, forward_rates, fixed_rate, floating_spread)\n",
    "\n",
    "print(f\"swap values: {swap_values}\")\n",
    "\n",
    "print()\n",
    "\n",
    "sum_swap = sum(swap_values)\n",
    "\n",
    "print(\"Sum Swap:\", sum_swap)"
   ]
  },
  {
   "cell_type": "markdown",
   "id": "d12b7468-9582-467c-acf7-b1154bd2cf88",
   "metadata": {},
   "source": [
    "## Part E [1 Mark]\n",
    "\n",
    "Test with different fixed rates and provide a better approximation of the swap rate so that the swap value is near zero (you do not need to develop a new code)."
   ]
  },
  {
   "cell_type": "code",
   "execution_count": 12,
   "id": "46f9baf2-2c76-4c44-a4ad-589f5c3606af",
   "metadata": {},
   "outputs": [
    {
     "name": "stdout",
     "output_type": "stream",
     "text": [
      "fixed rate: 0.063, sum of swap values: 5447.495888055278\n",
      "fixed rate: 0.0635, sum of swap values: 613.213968670426\n",
      "fixed rate: 0.0635, sum of swap values: 613.213968670426\n",
      "fixed rate: 0.0635, sum of swap values: 613.213968670426\n",
      "fixed rate: 0.0634375, sum of swap values: 144.37476342036305\n",
      "fixed rate: 0.0634375, sum of swap values: 144.37476342036305\n",
      "fixed rate: 0.063453125, sum of swap values: 45.02241960240434\n",
      "fixed rate: 0.063453125, sum of swap values: 45.02241960240434\n",
      "fixed rate: 0.06344921875, sum of swap values: 2.326876153357645\n",
      "FOUND: closest rate: 0.06344921875, sum of swap values: 2.326876153357645\n"
     ]
    }
   ],
   "source": [
    "lb = 0.06\n",
    "ub = 0.07\n",
    "itv = 0.001\n",
    "\n",
    "eps = 10\n",
    "closest_sum_swap = None\n",
    "closest_fixed_rate = None\n",
    "\n",
    "while closest_sum_swap is None or closest_sum_swap > eps:\n",
    "    fixed_rates = [lb + itv * k for k in range(int((ub - lb) / itv) + 1)]\n",
    "    # print(fixed_rates)\n",
    "\n",
    "    sum_swap_rates = []\n",
    "    for fixed_rate in fixed_rates:\n",
    "        swap_values = swap.compute_swap_values(\n",
    "            notional, T, n, spot_rates, forward_rates, fixed_rate, floating_spread)\n",
    "        sum_swap_values = sum(swap_values)\n",
    "\n",
    "        sum_swap_rates.append(sum_swap_values)\n",
    "\n",
    "    closest_index = -1\n",
    "    for i, sum_swap in enumerate(sum_swap_rates):\n",
    "        \n",
    "        if closest_sum_swap is None or abs(sum_swap) < closest_sum_swap:\n",
    "            closest_sum_swap = abs(sum_swap)\n",
    "            closest_fixed_rate = fixed_rates[i]\n",
    "            closest_index = i\n",
    "\n",
    "    if closest_index >= 0:\n",
    "        # if we didn't find a better rate, we need to make the interval more granular\n",
    "        lb = fixed_rates[closest_index - 1]\n",
    "        ub = fixed_rates[closest_index + 1]\n",
    "    itv /= 2\n",
    "    print(\n",
    "        f\"fixed rate: {closest_fixed_rate}, sum of swap values: {closest_sum_swap}\")\n",
    "\n",
    "print(\n",
    "    f\"FOUND: closest rate: {closest_fixed_rate}, sum of swap values: {closest_sum_swap}\")\n"
   ]
  },
  {
   "cell_type": "markdown",
   "id": "f8c6ecbd-3ad2-47ac-9342-421de3e02bc9",
   "metadata": {},
   "source": [
    "# Question 3 [6 Marks]\n",
    "\n",
    "Assume annual time periods, $T = 3$, a binomial model of the yield curve, and $y_{0,1} = 2\\%$. Suppose over the whole forward rate lattice that the next period's forward rates can either go up by a factor of $u = 1.3$ with a probability of $p = 60\\%$ or down by a factor of $d = 0.9$. (For example $y(u) = y_{0,1} \\times u = 0.02 \\times 1.3 = 0.026$ or $2.6\\%$, $y(uu) = y_{0,1} \\times u \\times u$ and so on.) Use discrete compounding."
   ]
  },
  {
   "cell_type": "markdown",
   "id": "284368c2-8030-4ee4-9242-83342471a800",
   "metadata": {},
   "source": [
    "## Part A [4 Marks]\n",
    "\n",
    "Construct the forward rate lattice and the zero coupon bond yield curve $y_{0,2}$ and $y_{0,3}$."
   ]
  },
  {
   "cell_type": "code",
   "execution_count": 14,
   "id": "33b8aba6-6103-43e9-b8f9-ea566808ea21",
   "metadata": {},
   "outputs": [
    {
     "name": "stdout",
     "output_type": "stream",
     "text": [
      "              | 0.0200 |              \n",
      "          | 0.0180 | 0.0260 |          \n",
      " | 0.0162 | 0.0234 | 0.0234 | 0.0338 | \n",
      "Rate value at path ['u', 'u', 'u']: None\n"
     ]
    }
   ],
   "source": [
    "# Maturity\n",
    "T = 3\n",
    "\n",
    "# zero spot yield rate for time step 0 to time step 1\n",
    "y_0_1 = 0.02\n",
    "\n",
    "# Probability of increase / decrease\n",
    "p = 0.6\n",
    "q = 1 - p\n",
    "\n",
    "# Increase / Decrease factors\n",
    "u = 1.3\n",
    "d = 0.9\n",
    "\n",
    "head_node = BinNode(y_0_1, 0, None, None, None)\n",
    "zero_spot_lattice = BinLattice(head_node)\n",
    "\n",
    "zero_spot_lattice.construct_bin_lattice(u, d, T)\n",
    "\n",
    "print(zero_spot_lattice)\n",
    "\n",
    "# Week 4 lecture 2\n",
    "path = [\"u\", \"u\", \"u\"]\n",
    "\n",
    "rate_value = zero_spot_lattice.get_node_by_path(path)\n",
    "print(f\"Rate value at path {path}: {rate_value}\")\n"
   ]
  },
  {
   "cell_type": "markdown",
   "id": "f9124df2-0de3-4cfa-baad-db611ed6c096",
   "metadata": {},
   "source": [
    "## Part B [2 Marks]\n",
    "\n",
    "Construct the 1-period forward rates $y_{1,2}$ and $y_{2,3}$, which are embedded in this zero coupon bond yield curve (we already have $y_{0,1}$)."
   ]
  },
  {
   "cell_type": "markdown",
   "id": "c7bdffd4-92cc-4de6-b480-1bdc1b55eaa0",
   "metadata": {},
   "source": [
    "# Question 4 [3 Marks]\n",
    "\n",
    "Consider the payoff at maturity $T$ in Figure 1. Show how to construct this payoff using <u>European calls with the same maturity only</u> (you can use any combination of European calls with any strike price). You must state long/short, strike prices as well as the number of units. In addition, express the current value of the (replicating) portfolio in terms of the current prices of strike-$K$ European calls $C_0(K), K > 0$.\n",
    "\n",
    "<div style=\"text-align:center\"><img src=\"assets/figure_1.png\" alt=\"Figure 1\" /></div>\n",
    "\n"
   ]
  },
  {
   "cell_type": "markdown",
   "id": "3e52aa35-8cc5-4114-b485-b992a415e1c3",
   "metadata": {},
   "source": [
    "# Question 5 [5 Marks]\n",
    "\n",
    "Given a stock whose time-$t$ price is $S_t$, consider a derivative that pays $e^{S_T}$ at maturity $T$ (the writer pays $e^{S_T}$ to the holder; the holder pays nothing to the writer). We assume that there is also a (risk-free) zero-coupon bond with maturity $T$ and face value $1$, whose time-$0$ price is $Z_0$. Let $C_0$ be the arbitrage-free time-$0$ price of the derivative. Answer the following."
   ]
  },
  {
   "cell_type": "markdown",
   "id": "f25ed481-bc27-4238-806d-99024dfcaea0",
   "metadata": {},
   "source": [
    "## Part A [2 Marks]\n",
    "\n",
    "Support $S_T$ can take any positive value with strictly positive probability (under the physical probability measure $P$), and hence $P(S_T > M) > 0$ for any $M > 0$. Show that the considered derivative cannot be super-replicated if only the stock and bond are available in the market."
   ]
  },
  {
   "cell_type": "markdown",
   "id": "79bfd2f2-9b72-408d-8b07-3d80f6d2a264",
   "metadata": {},
   "source": [
    "## Part B [3 Marks]\n",
    "\n",
    "Show that\n",
    "\n",
    "$$C_0 \\ge e^{\\frac{S_0}{Z_0}} Z_0$$"
   ]
  }
 ],
 "metadata": {
  "kernelspec": {
   "display_name": "Python 3 (ipykernel)",
   "language": "python",
   "name": "python3"
  },
  "language_info": {
   "codemirror_mode": {
    "name": "ipython",
    "version": 3
   },
   "file_extension": ".py",
   "mimetype": "text/x-python",
   "name": "python",
   "nbconvert_exporter": "python",
   "pygments_lexer": "ipython3",
   "version": "3.10.11"
  }
 },
 "nbformat": 4,
 "nbformat_minor": 5
}
