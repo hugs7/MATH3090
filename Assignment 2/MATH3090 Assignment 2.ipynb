{
 "cells": [
  {
   "cell_type": "markdown",
   "id": "32e0910a-ca5f-4860-80f3-bab871ae073f",
   "metadata": {},
   "source": [
    "# MATH3090 Assignment 2\n",
    "\n",
    "Student: Hugo Burton (s4698512)\n",
    "Date Due: Tuesday April 23 @ 1pm"
   ]
  },
  {
   "cell_type": "code",
   "execution_count": 1,
   "id": "954cbdb4-1bb8-458f-af61-7040afc2a548",
   "metadata": {},
   "outputs": [],
   "source": [
    "# import math\n",
    "# from typing import Dict\n",
    "from colorama import Fore, Style\n",
    "# import numpy as np\n",
    "\n",
    "import bond\n",
    "import swap\n",
    "import table\n",
    "\n",
    "from lattice import BinNode, BinLattice\n",
    "# import interest\n",
    "# import newtons\n",
    "import display as dsp"
   ]
  },
  {
   "cell_type": "markdown",
   "id": "ae8d8c10-1824-4e77-8101-9ca413ae8637",
   "metadata": {},
   "source": [
    "# Question 1 [3 Marks]\n",
    "\n",
    "You have just invested in a $3$-year coupon paying bond with $8\\%$ semi-annual coupons and a face value $F = \\$100,000$. Suppose the coupon-paying bond yield curve is flat at $9\\%$."
   ]
  },
  {
   "cell_type": "markdown",
   "id": "9f5be510-46c5-4c84-90c4-7d3bd340ff11",
   "metadata": {},
   "source": [
    "## Part A [1 Mark]\n",
    "\n",
    "Calculate the present value and the (absolute value of) duration $|D|$ of the bond."
   ]
  },
  {
   "cell_type": "markdown",
   "id": "dc6bc51c-ca3a-4e91-8db0-b9097fec6bf6",
   "metadata": {},
   "source": [
    "We have the following from the question\n",
    "\n",
    "\\begin{align}\n",
    "    y &= 9\\% \\hspace{0.25cm} \\text{annually} \\\\\n",
    "    F &= \\$100,000 \\\\\n",
    "    T &= 3 \\hspace{0.15cm} \\text{years} \\\\\n",
    "    c &= 8\\% \\\\\n",
    "    n &= 2 \\hspace{0.25cm} \\text{(semiannual)}\n",
    "\\end{align}\n",
    "\n",
    "Then, we can derive\n",
    "\n",
    "\\begin{align}\n",
    "    C &= c \\cdot F \\\\\n",
    "    &= 0.08 \\cdot \\$100,000 \\\\\n",
    "    &= \\$8,000 \\\\\n",
    "    \\Rightarrow \\frac{C}{2} &= \\$4,000    \n",
    "\\end{align}\n",
    "\n",
    "Now\n",
    "\n",
    "$$|D| = \\sum_{t=1}^{T} \\frac{t \\cdot \\text{PV}_t}{B(y)}$$\n",
    "\n",
    "where\n",
    "\n",
    "$$\\text{PV}_t := \\begin{cases} \\frac{\\frac{C}{n}}{\\left(1+\\frac{y}{n}\\right)^t}, & t\\in[1,T-1] \\\\ \\frac{\\frac{C}{n}+F}{\\left(1+\\frac{y}{n}\\right)^T}, & t = T \\end{cases}$$\n",
    "\n",
    "\n",
    "For the duration, we have\n",
    "\n",
    "\\begin{align}\n",
    "    |D| &= \\sum_{t=1}^{T} \\frac{t \\cdot \\text{PV}_t}{B(y)} \\\\\n",
    "\\end{align}\n",
    "\n",
    "\n",
    "All of these values can be computed using code below:"
   ]
  },
  {
   "cell_type": "code",
   "execution_count": 2,
   "id": "3e6f54f2-50be-453b-a1e5-57b0defb554f",
   "metadata": {},
   "outputs": [
    {
     "name": "stdout",
     "output_type": "stream",
     "text": [
      "Time step 1 Beta 0.9569377990430623\n",
      "Time step 2 Beta 0.9157299512373802\n",
      "Time step 3 Beta 0.8762966040549094\n",
      "Time step 4 Beta 0.8385613435932148\n",
      "Time step 5 Beta 0.802451046500684\n",
      "Time step 6 Beta 0.7678957382781666\n",
      "Present value: 97421.06375864633\n",
      "Time step 1 Beta 0.9569377990430623\n",
      "Time step 2 Beta 0.9157299512373802\n",
      "Time step 3 Beta 0.8762966040549094\n",
      "Time step 4 Beta 0.8385613435932148\n",
      "Time step 5 Beta 0.802451046500684\n",
      "Time step 6 Beta 0.7678957382781666\n",
      "Time step 1 Beta 0.9569377990430623\n",
      "Time step 2 Beta 0.9157299512373802\n",
      "Time step 3 Beta 0.8762966040549094\n",
      "Time step 4 Beta 0.8385613435932148\n",
      "Time step 5 Beta 0.802451046500684\n",
      "Time step 6 Beta 0.7678957382781666\n",
      "Bond Duration 2.7217014098798824\n"
     ]
    }
   ],
   "source": [
    "# Calculate the present values\n",
    "\n",
    "T = 3\n",
    "n = 2\n",
    "y = 0.09\n",
    "c = 0.08\n",
    "F = 100_000\n",
    "\n",
    "present_values = bond.present_values_coupon_bearing_bond_discrete(\n",
    "    F, T, c, y, n)\n",
    "\n",
    "present_val = sum(present_values)\n",
    "\n",
    "print(f\"Present value: {present_val}\")\n",
    "\n",
    "# Bond Duration\n",
    "\n",
    "bond_duration = bond.bond_duration_discrete(F, T, c, y, n)\n",
    "\n",
    "print(\"Bond Duration\", bond_duration)"
   ]
  },
  {
   "cell_type": "markdown",
   "id": "3b0d7a00-49ce-4968-afef-177f36d02552",
   "metadata": {},
   "source": [
    "## Part B [1 Mark]\n",
    "\n",
    "Now calculate the value of the bond in $|D|$ years time."
   ]
  },
  {
   "cell_type": "markdown",
   "id": "da6f2c10-59ff-4898-b3e8-8b792f86d08a",
   "metadata": {},
   "source": [
    "The value of a bond in $|D|$ years time is given by the formula from slide 44 w4\n",
    "\n",
    "$$B_D = \\frac{\\text{FV}}{\\left(1 + \\frac{y}{2}\\right)^{T - |D|}}$$\n",
    "\n",
    "where\n",
    "\\begin{align}\n",
    "    \\text{FV} & \\hspace{0.25cm} \\text{is the face value of the bond (including the last coupon payment)} \\\\\n",
    "    y & \\hspace{0.25cm} \\text{is the yield to maturity or interest rate} \\\\\n",
    "    |D| & \\hspace{0.25cm} \\text{is the duration of the bond} \\\\\n",
    "    T & \\hspace{0.25cm} \\text{is the time to maturity of the bond} \\\\\n",
    "    B_D & \\hspace{0.25cm} \\text{is the value of the bond at time } |D|\n",
    "\\end{align}\n",
    "\n",
    "Again, this can be computed in code as follows"
   ]
  },
  {
   "cell_type": "code",
   "execution_count": 3,
   "id": "75fbcc84-e642-4ba8-a349-9cb00b29f7ff",
   "metadata": {},
   "outputs": [
    {
     "name": "stdout",
     "output_type": "stream",
     "text": [
      "Time step 1, Year 0.5, Cashflow:   4000.0, Beta:  1.1027, Reinvestment value 4410.9352\n",
      "Time step 2, Year 1.0, Cashflow:   4000.0, Beta:  1.0787, Reinvestment value 4314.9179\n",
      "Time step 3, Year 1.5, Cashflow:   4000.0, Beta:  1.0552, Reinvestment value 4220.9907\n",
      "Time step 4, Year 2.0, Cashflow:   4000.0, Beta:  1.0323, Reinvestment value 4129.1080\n",
      "Time step 5, Year 2.5, Cashflow:   4000.0, Beta:  1.0098, Reinvestment value 4039.2255\n",
      "Time step 6, Year 3.0, Cashflow: 104000.0, Beta:  0.9878, Reinvestment value 102733.7882\n",
      "--------------------------------------------------\n",
      "The bond value at |D| is:  123848.96551455601\n"
     ]
    }
   ],
   "source": [
    "val_at_d = bond.bond_value_at_time(bond_duration, F, T, c, y, n)\n",
    "\n",
    "print(\"The bond value at |D| is: \", val_at_d)"
   ]
  },
  {
   "cell_type": "markdown",
   "id": "516b91a5-37aa-46dc-91a2-05999392e771",
   "metadata": {},
   "source": [
    "## Part C [1 Mark]\n",
    "\n",
    "Suppose that, immediately after buying the bond, the yield curve shifted up to be flat at $10\\%$. Now calculate the value of the bond again in $|D|$ years time under the new yield curve (don't calculate D again). Compare your answer with what you obtained in (b)."
   ]
  },
  {
   "cell_type": "code",
   "execution_count": 4,
   "id": "43748e59-d2cb-41a6-aaf7-98e65d0d7025",
   "metadata": {
    "scrolled": true
   },
   "outputs": [
    {
     "name": "stdout",
     "output_type": "stream",
     "text": [
      "Time step 1, Year 0.5, Cashflow:   4000.0, Beta:  1.1145, Reinvestment value 4457.9612\n",
      "Time step 2, Year 1.0, Cashflow:   4000.0, Beta:  1.0876, Reinvestment value 4350.5247\n",
      "Time step 3, Year 1.5, Cashflow:   4000.0, Beta:  1.0614, Reinvestment value 4245.6774\n",
      "Time step 4, Year 2.0, Cashflow:   4000.0, Beta:  1.0358, Reinvestment value 4143.3568\n",
      "Time step 5, Year 2.5, Cashflow:   4000.0, Beta:  1.0109, Reinvestment value 4043.5022\n",
      "Time step 6, Year 3.0, Cashflow: 104000.0, Beta:  0.9865, Reinvestment value 102597.4076\n",
      "--------------------------------------------------\n",
      "The new bond value at |D| with y = 0.10 is 123838.42995398007.\n",
      "\n",
      "The difference in bond value is $-10.536. In other words, the bond is now valued $-10.536 \n",
      "lower with the yield curve at 10% compared when it was at 9% flat.\n"
     ]
    }
   ],
   "source": [
    "# Compute bond value with new interest rate of 10% and compare values\n",
    "\n",
    "y_new = 0.10\n",
    "\n",
    "val_at_d_yield_shift = bond.bond_value_at_time(bond_duration, F, T, c, y_new, n)\n",
    "\n",
    "print(f\"The new bond value at |D| with y = {y_new:.2f} is {val_at_d_yield_shift}.\\n\")\n",
    "\n",
    "# Compare differences\n",
    "\n",
    "difference = val_at_d_yield_shift - val_at_d\n",
    "\n",
    "print(f\"The difference in bond value is ${difference:.3f}. In other words, the bond is now valued ${difference:.3f} \\n\"+ \\\n",
    "      f\"lower with the yield curve at 10% compared when it was at 9% flat.\")"
   ]
  },
  {
   "cell_type": "markdown",
   "id": "b0c749d7-0cea-430e-8042-a07d419e73e2",
   "metadata": {},
   "source": [
    "We see the new value with $y = 10\\%$ is lower by $\\sim \\$3,810$. This increase is due the the coupons attaining a higher interest rate as they are able to be reinvested upon receiving them. The coupon rate is quite high for this bond at $\\$4,000$ every $6$ months which explains this increase."
   ]
  },
  {
   "cell_type": "markdown",
   "id": "a61eab0a-0906-41b6-9549-afd7018bf0fa",
   "metadata": {},
   "source": [
    "# Question 2 [7 Marks]\n",
    "\n",
    "Assume that you observe the following yield curve for government's coupon paying bonds.\n",
    "\n",
    "* There are a total of 20 bonds\n",
    "* For the $k$-th bond, $k = 1,...,20$, the maturity is $k$ years.\n",
    "* The face value is $F = \\$100,000$ and the coupon rate for the $k$-th bond, $k = 1,...,20$, is $c = 4\\%$. Let $C = cF$.\n",
    "* The price of the bonds $(P(k), k = 1,2,...,20$) are given by\n",
    "\n",
    "  \\begin{align}\n",
    "      & [P(1),P(2),...,P(20)] \\\\\n",
    "      =& [99412, 97339, 94983, 94801, 94699, 94454, 93701, 93674, 93076, 92814, \\\\\n",
    "       & \\hspace{0.25cm} 91959, 91664, 87384, 87329, 86576, 84697, 82642, 82350, 82207, 81725].\n",
    "  \\end{align}\n",
    "* Denote by $y_{0,k}$ the spot zero-coupon bond yield curve, and by $y_{k-1,k}$ the implied one-year forward rates.\n",
    "\n",
    "Assume that all coupon payments are made <u>annually</u>. Use <u>continuous compounding</u>."
   ]
  },
  {
   "cell_type": "markdown",
   "id": "003063aa-b80f-4f1c-9342-c99bf8b52ecf",
   "metadata": {},
   "source": [
    "## Part A [1 Mark]\n",
    "\n",
    "Show that\n",
    "\n",
    "$$y_{0,k} = \\frac{1}{k} \\log \\left(\\frac{C+F}{P(k) - C \\sum_{j=1}^{k-1} e^{-y_{0,j}\\times j}}\\right), \\hspace{0.5cm} 1 \\le k \\le 20.$$\n"
   ]
  },
  {
   "cell_type": "markdown",
   "id": "8b2e3669-9d39-47fe-be37-aa07cd39bea5",
   "metadata": {},
   "source": [
    "In general, we have for bond $k$ the cashflow\n",
    "\n",
    "$$\\underbrace{C + C + \\cdots + C}_{T - 1} + C + F$$\n",
    "\n",
    "over the lifespan of the bond. Therefore, with exception to the final coupon payment, there are $T - 1$ coupon payments. Denote\n",
    "\n",
    "\\begin{align}\n",
    "    V_t &:= \\frac{C}{e^{y_{0,t} \\cdot t}}, \\hspace{0.5cm} \\forall t \\in [1, T-1] \\\\\n",
    "    &= C e^{y_{0,t} \\cdot t}, \\hspace{0.5cm} \\forall t \\in [1, T-1]\n",
    "\\end{align}\n",
    "\n",
    "as the value of coupon payment $t \\in [1,T-1]$ for any of the $k$ bonds in the question. Next, the stripped price of bond $k$ can be written as follows. Note $T = k$ in our example, hence we can perform the variable substitution $T = k$.\n",
    "\n",
    "\\begin{align}\n",
    "    P'(k) &:= P(k) - \\sum_{j=1}^{T-1}V_j, \\hspace{0.5cm} \\forall k \\in [1, 20] \\\\\n",
    "    &= P(k) - \\sum_{j=1}^{k-1} C e^{y_{0,j} \\cdot j}, \\hspace{0.5cm} \\forall k \\in [1, 20]\n",
    "\\end{align}\n",
    "\n",
    "Now equate the stripped price of the bond, $P'(k)$ with the equivalent zero-coupon bond (maturing at $T = k$ years with rate $y_{0,T} = y_{0,k}$ to compute the spot zero-coupon yield rate.\n",
    "\n",
    "\\begin{align}\n",
    "    \\frac{C + F}{e^{y_{0,T} \\cdot T}} &= P'(k) \\\\\n",
    "    \\frac{C + F}{e^{y_{0,k} \\cdot k}} &= P(k) - \\sum_{j=1}^{k-1} C e^{y_{0,j} \\cdot j} \\\\\n",
    "    e^{y_{0,k} \\cdot k} &= \\frac{C + F}{P(k) - C\\sum_{j=1}^{k-1} e^{y_{0,j} \\cdot j}} \\\\\n",
    "    y_{0,k} \\cdot k &= \\ln \\left(\\frac{C + F}{P(k) - C\\sum_{j=1}^{k-1} e^{y_{0,j} \\cdot j}}\\right) \\\\\n",
    "    y_{0,k} &= \\frac{1}{k} \\ln \\left(\\frac{C + F}{P(k) - C\\sum_{j=1}^{k-1} e^{y_{0,j} \\cdot j}}\\right), \\hspace{0.5cm} \\forall k \\in [1, 20]\n",
    "\\end{align}\n",
    "\n",
    "As given in the question. Note the question uses $\\log$, though I prefer to use $\\ln$ to specify this is the natural log which is derived from using continuous compounding."
   ]
  },
  {
   "cell_type": "markdown",
   "id": "e1b18981-b417-416e-bbde-57d861329c16",
   "metadata": {},
   "source": [
    "## Part B [2 Marks]\n",
    "\n",
    "Implement a Matlab/Python program to compute spot zero-coupon bond yield curve $y_{0,k}$ and the implied one-year forward rates $y_{k-1,k}$. Submit Table 1 filled with computed value."
   ]
  },
  {
   "cell_type": "code",
   "execution_count": 5,
   "id": "45c366db-da89-40b6-9c04-cc0c929922ef",
   "metadata": {},
   "outputs": [
    {
     "data": {
      "text/markdown": [
       "|Time Step | Year | Spot Rate | Forward Rate |\n",
       "| :-------: | :---: | :--------: | :-----------: |\n",
       "|    1     |  1   |  0.04512  |   0.04512    |\n",
       "|    2     |  2   |  0.05313  |   0.06115    |\n",
       "|    3     |  3   |  0.05735  |   0.06577    |\n",
       "|    4     |  4   |  0.05336  |   0.04138    |\n",
       "|    5     |  5   |  0.05078  |   0.04048    |\n",
       "|    6     |  6   |  0.04938  |   0.04238    |\n",
       "|    7     |  7   |  0.04938  |   0.04940    |\n",
       "|    8     |  8   |  0.04816  |   0.03960    |\n",
       "|    9     |  9   |  0.04815  |   0.04805    |\n",
       "|    10    |  10  |  0.04766  |   0.04327    |\n",
       "|    11    |  11  |  0.04815  |   0.05309    |\n",
       "|    12    |  12  |  0.04783  |   0.04424    |\n",
       "|    13    |  13  |  0.05324  |   0.11824    |\n",
       "|    14    |  14  |  0.05232  |   0.04032    |\n",
       "|    15    |  15  |  0.05250  |   0.05501    |\n",
       "|    16    |  16  |  0.05431  |   0.08140    |\n",
       "|    17    |  17  |  0.05637  |   0.08946    |\n",
       "|    18    |  18  |  0.05585  |   0.04686    |\n",
       "|    19    |  19  |  0.05518  |   0.04314    |\n",
       "|    20    |  20  |  0.05507  |   0.05307    |\n"
      ],
      "text/plain": [
       "<IPython.core.display.Markdown object>"
      ]
     },
     "metadata": {},
     "output_type": "display_data"
    }
   ],
   "source": [
    "bond_prices = [\n",
    "    99412,\n",
    "    97339,\n",
    "    94983,\n",
    "    94801,\n",
    "    94699,\n",
    "    94454,\n",
    "    93701,\n",
    "    93674,\n",
    "    93076,\n",
    "    92814,\n",
    "    91959,\n",
    "    91664,\n",
    "    87384,\n",
    "    87329,\n",
    "    86576,\n",
    "    84697,\n",
    "    82642,\n",
    "    82350,\n",
    "    82207,\n",
    "    81725,\n",
    "]\n",
    "\n",
    "num_bonds = 20\n",
    "assert(len(bond_prices) == num_bonds)\n",
    "F = 100_000\n",
    "c = 0.04\n",
    "n = 1  # annual\n",
    "T = [k for k in range(1, num_bonds + 1)]\n",
    "\n",
    "spot_rates, forward_rates = bond.recursive_zero_coupon_yield_continuous(\n",
    "    bond_prices, F, T, c, n\n",
    ")\n",
    "\n",
    "col_heads = [\"Time Step\", \"Year\", \"Spot Rate\", \"Forward Rate\"]\n",
    "col_spaces = [10, 6, 11, 14]\n",
    "col_decimals = [None, None, 5, 5]\n",
    "\n",
    "table_data = []\n",
    "\n",
    "for i in range(len(T)):\n",
    "    table_data.append([i+1, T[i], spot_rates[i], forward_rates[i]])\n",
    "\n",
    "table_str = table.generate_table(col_heads, col_spaces, table_data, col_decimals)\n",
    "\n",
    "dsp.printmd(table_str)"
   ]
  },
  {
   "cell_type": "markdown",
   "id": "49bb6a1a-2e71-460c-9de7-eb18b72d80d2",
   "metadata": {},
   "source": [
    "## Part C [3 Marks]\n",
    "\n",
    "Suppose you enter into a 20-year vanilla fixed-for-floating swap on a notional principal of $\\$1,000,000$ where you pay the fixed rate of $6.5\\%$ and the counter-party pays the yield curve plus $1\\%$.\n",
    "\n",
    "Code in Matlab/Python a program to compute the swap value. Submit a table of results, similar to the table on L5.15."
   ]
  },
  {
   "cell_type": "code",
   "execution_count": 8,
   "id": "258afe4d-5387-43b2-bb8f-208d7684d13e",
   "metadata": {},
   "outputs": [
    {
     "data": {
      "text/markdown": [
       "|$n$|$y_{0,n}$|$y_{n-1, n}$|Fixed Payment|Floating Payment|Fixed - Floating|PV @ Spot |\n",
       "| :-: | :------: | :---------: | :----------: | :-------------: | :-------------: | :-------: |\n",
       "| 1 |1.0000|0.0451|  65000   |   55118.068   |  9881.932  | 9445.986 |\n",
       "| 2 |2.0000|0.0531|  65000   |   71146.044   | -6146.044  |-5526.444 |\n",
       "| 3 |3.0000|0.0573|  65000   |   75771.530   | -10771.530 |-9069.081 |\n",
       "| 4 |4.0000|0.0534|  65000   |   51384.704   | 13615.296  |10998.661 |\n",
       "| 5 |5.0000|0.0508|  65000   |   50484.174   | 14515.826  |11260.882 |\n",
       "| 6 |6.0000|0.0494|  65000   |   52383.880   | 12616.120  | 9381.006 |\n",
       "| 7 |7.0000|0.0494|  65000   |   59399.118   |  5600.882  | 3963.932 |\n",
       "| 8 |8.0000|0.0482|  65000   |   49602.285   | 15397.715  |10474.349 |\n",
       "| 9 |9.0000|0.0481|  65000   |   58050.421   |  6949.579  | 4505.689 |\n",
       "|10 |10.0000|0.0477|  65000   |   53269.991   | 11730.009  | 7282.981 |\n",
       "|11 |11.0000|0.0482|  65000   |   63087.086   |  1912.914  | 1126.292 |\n",
       "|12 |12.0000|0.0478|  65000   |   54243.640   | 10756.360  | 6059.069 |\n",
       "|13 |13.0000|0.0532|  65000   |  128243.007   | -63243.007 |-31651.977|\n",
       "|14 |14.0000|0.0523|  65000   |   50320.258   | 14679.742  | 7056.606 |\n",
       "|15 |15.0000|0.0525|  65000   |   65009.234   |   -9.234   |  -4.201  |\n",
       "|16 |16.0000|0.0543|  65000   |   91396.748   | -26396.748 |-11071.017|\n",
       "|17 |17.0000|0.0564|  65000   |   99459.396   | -34459.396 |-13215.787|\n",
       "|18 |18.0000|0.0558|  65000   |   56863.576   |  8136.424  | 2977.600 |\n",
       "|19 |19.0000|0.0552|  65000   |   53135.906   | 11864.094  | 4158.471 |\n",
       "|20 |20.0000|0.0551|  65000   |   63067.572   |  1932.428  | 642.326  |\n"
      ],
      "text/plain": [
       "<IPython.core.display.Markdown object>"
      ]
     },
     "metadata": {},
     "output_type": "display_data"
    },
    {
     "name": "stdout",
     "output_type": "stream",
     "text": [
      "Sum Swap: 18795.34353884762\n"
     ]
    }
   ],
   "source": [
    "notional = 1_000_000   # $\n",
    "fixed_rate = 0.065     # %\n",
    "floating_spread = 0.01 # %\n",
    "\n",
    "# We have spot and forward rates from part b\n",
    "\n",
    "swap_values, _, swap_table_str = swap.compute_swap_values(\n",
    "    notional, T, n, spot_rates, forward_rates, fixed_rate, floating_spread)\n",
    "\n",
    "dsp.printmd(swap_table_str)\n",
    "\n",
    "sum_swap = sum(swap_values)\n",
    "print(\"Sum Swap:\", sum_swap)"
   ]
  },
  {
   "cell_type": "markdown",
   "id": "d12b7468-9582-467c-acf7-b1154bd2cf88",
   "metadata": {},
   "source": [
    "## Part E [1 Mark]\n",
    "\n",
    "Test with different fixed rates and provide a better approximation of the swap rate so that the swap value is near zero (you do not need to develop a new code)."
   ]
  },
  {
   "cell_type": "code",
   "execution_count": 11,
   "id": "46f9baf2-2c76-4c44-a4ad-589f5c3606af",
   "metadata": {},
   "outputs": [
    {
     "name": "stdout",
     "output_type": "stream",
     "text": [
      "fixed rate: 0.063, sum of swap values: 5447.495888055278\n",
      "fixed rate: 0.0635, sum of swap values: 613.213968670426\n",
      "fixed rate: 0.0635, sum of swap values: 613.213968670426\n",
      "fixed rate: 0.0635, sum of swap values: 613.213968670426\n",
      "fixed rate: 0.0634375, sum of swap values: 144.37476342036305\n",
      "fixed rate: 0.0634375, sum of swap values: 144.37476342036305\n",
      "fixed rate: 0.063453125, sum of swap values: 45.02241960240434\n",
      "fixed rate: 0.063453125, sum of swap values: 45.02241960240434\n",
      "fixed rate: 0.06344921875, sum of swap values: 2.326876153357645\n",
      "FOUND: closest rate: 0.06344921875, sum of swap values: 2.326876153357645\n"
     ]
    }
   ],
   "source": [
    "lb = 0.06\n",
    "ub = 0.07\n",
    "itv = 0.001\n",
    "\n",
    "eps = 10\n",
    "closest_sum_swap = None\n",
    "closest_fixed_rate = None\n",
    "\n",
    "while closest_sum_swap is None or closest_sum_swap > eps:\n",
    "    fixed_rates = [lb + itv * k for k in range(int((ub - lb) / itv) + 1)]\n",
    "    # print(fixed_rates)\n",
    "\n",
    "    sum_swap_rates = []\n",
    "    for fixed_rate in fixed_rates:\n",
    "        swap_values, _, swap_table_str = swap.compute_swap_values(\n",
    "            notional, T, n, spot_rates, forward_rates, fixed_rate, floating_spread)\n",
    "        sum_swap_values = sum(swap_values)\n",
    "\n",
    "        sum_swap_rates.append(sum_swap_values)\n",
    "\n",
    "    closest_index = -1\n",
    "    for i, sum_swap in enumerate(sum_swap_rates):\n",
    "        \n",
    "        if closest_sum_swap is None or abs(sum_swap) < closest_sum_swap:\n",
    "            closest_sum_swap = abs(sum_swap)\n",
    "            closest_fixed_rate = fixed_rates[i]\n",
    "            closest_index = i\n",
    "\n",
    "    if closest_index >= 0:\n",
    "        # if we didn't find a better rate, we need to make the interval more granular\n",
    "        lb = fixed_rates[closest_index - 1]\n",
    "        ub = fixed_rates[closest_index + 1]\n",
    "    itv /= 2\n",
    "    print(\n",
    "        f\"fixed rate: {closest_fixed_rate}, sum of swap values: {closest_sum_swap}\")\n",
    "\n",
    "# Uncomment to show table for final approximation\n",
    "#dsp.printmd(swap_table_str)\n",
    "\n",
    "print(\n",
    "    f\"FOUND: closest rate: {closest_fixed_rate}, sum of swap values: {closest_sum_swap}\")\n"
   ]
  },
  {
   "cell_type": "markdown",
   "id": "f8c6ecbd-3ad2-47ac-9342-421de3e02bc9",
   "metadata": {},
   "source": [
    "# Question 3 [6 Marks]\n",
    "\n",
    "Assume annual time periods, $T = 3$, a binomial model of the yield curve, and $y_{0,1} = 2\\%$. Suppose over the whole forward rate lattice that the next period's forward rates can either go up by a factor of $u = 1.3$ with a probability of $p = 60\\%$ or down by a factor of $d = 0.9$. (For example $y(u) = y_{0,1} \\times u = 0.02 \\times 1.3 = 0.026$ or $2.6\\%$, $y(uu) = y_{0,1} \\times u \\times u$ and so on.) Use discrete compounding."
   ]
  },
  {
   "cell_type": "markdown",
   "id": "284368c2-8030-4ee4-9242-83342471a800",
   "metadata": {},
   "source": [
    "## Part A [4 Marks]\n",
    "\n",
    "Construct the forward rate lattice and the zero coupon bond yield curve $y_{0,2}$ and $y_{0,3}$."
   ]
  },
  {
   "cell_type": "code",
   "execution_count": null,
   "id": "33b8aba6-6103-43e9-b8f9-ea566808ea21",
   "metadata": {},
   "outputs": [],
   "source": [
    "# Maturity\n",
    "T = 3\n",
    "\n",
    "# zero spot yield rate for time step 0 to time step 1\n",
    "y_0_1 = 0.02\n",
    "\n",
    "# Probability of increase / decrease\n",
    "p = 0.6\n",
    "q = 1 - p\n",
    "\n",
    "# Increase / Decrease factors\n",
    "u = 1.3\n",
    "d = 0.9\n",
    "\n",
    "head_node = BinNode(y_0_1, 0, None, None, None)\n",
    "forward_lattice = BinLattice(head_node)\n",
    "\n",
    "forward_lattice.construct_bin_lattice(u, d, T)\n",
    "\n",
    "print(forward_lattice)\n",
    "\n",
    "# Week 4 lecture 2\n",
    "path = [\"u\", \"u\", \"u\"]\n",
    "\n",
    "rate_value = forward_lattice.get_node_by_path(path)\n",
    "print(f\"Rate value at path {path}: {rate_value}\")\n",
    "\n",
    "# Yield curve lattice\n",
    "\n",
    "# y_{0, 2}\n",
    "T_y = 2\n",
    "yield_curve_lattice = forward_lattice.construct_zero_spot_lattice(T_y, p, q)\n",
    "\n",
    "print(\"y_{0, 2} yield curve lattice\")\n",
    "print(yield_curve_lattice)\n",
    "\n",
    "# y_{0, 3}\n",
    "T_y = 3\n",
    "yield_curve_lattice = forward_lattice.construct_zero_spot_lattice(T_y, p, q)\n",
    "\n",
    "print(\"y_{0, 3} yield curve lattice\")\n",
    "print(yield_curve_lattice)"
   ]
  },
  {
   "cell_type": "markdown",
   "id": "f9124df2-0de3-4cfa-baad-db611ed6c096",
   "metadata": {},
   "source": [
    "## Part B [2 Marks]\n",
    "\n",
    "Construct the 1-period forward rates $y_{1,2}$ and $y_{2,3}$, which are embedded in this zero coupon bond yield curve (we already have $y_{0,1}$)."
   ]
  },
  {
   "cell_type": "code",
   "execution_count": null,
   "id": "dc03a25a-9f94-4428-8518-09b2215ee416",
   "metadata": {},
   "outputs": [],
   "source": [
    "# y_{1, 2}\n",
    "\n",
    "y_1_2_depth = 1\n",
    "y_1_2_rates = forward_lattice.get_nodes_at_depth(y_1_2_depth)\n",
    "print(f\"y_{{1, 2}} rates: {y_1_2_rates}\")\n",
    "\n",
    "# y_{2, 3}\n",
    "\n",
    "y_2_3_depth = 2\n",
    "y_2_3_rates = forward_lattice.get_nodes_at_depth(y_2_3_depth)\n",
    "print(f\"y_{{2, 3}} rates: {y_2_3_rates}\")"
   ]
  },
  {
   "cell_type": "markdown",
   "id": "c7bdffd4-92cc-4de6-b480-1bdc1b55eaa0",
   "metadata": {},
   "source": [
    "# Question 4 [3 Marks]\n",
    "\n",
    "Consider the payoff at maturity $T$ in Figure 1. Show how to construct this payoff using <u>European calls with the same maturity only</u> (you can use any combination of European calls with any strike price). You must state long/short, strike prices as well as the number of units. In addition, express the current value of the (replicating) portfolio in terms of the current prices of strike-$K$ European calls $C_0(K), K > 0$.\n",
    "\n",
    "<div style=\"text-align:center\"><img src=\"assets/figure_1.png\" alt=\"Figure 1\" /></div>\n",
    "\n"
   ]
  },
  {
   "cell_type": "code",
   "execution_count": null,
   "id": "c9884b9e-603c-4397-9289-c01fceff1d3a",
   "metadata": {},
   "outputs": [],
   "source": [
    "# Come back to"
   ]
  },
  {
   "cell_type": "markdown",
   "id": "3e52aa35-8cc5-4114-b485-b992a415e1c3",
   "metadata": {},
   "source": [
    "# Question 5 [5 Marks]\n",
    "\n",
    "Given a stock whose time-$t$ price is $S_t$, consider a derivative that pays $e^{S_T}$ at maturity $T$ (the writer pays $e^{S_T}$ to the holder; the holder pays nothing to the writer). We assume that there is also a (risk-free) zero-coupon bond with maturity $T$ and face value $1$, whose time-$0$ price is $Z_0$. Let $C_0$ be the arbitrage-free time-$0$ price of the derivative. Answer the following."
   ]
  },
  {
   "cell_type": "markdown",
   "id": "f25ed481-bc27-4238-806d-99024dfcaea0",
   "metadata": {},
   "source": [
    "## Part A [2 Marks]\n",
    "\n",
    "Support $S_T$ can take any positive value with strictly positive probability (under the physical probability measure $P$), and hence $P(S_T > M) > 0$ for any $M > 0$. Show that the considered derivative cannot be super-replicated if only the stock and bond are available in the market."
   ]
  },
  {
   "cell_type": "markdown",
   "id": "79bfd2f2-9b72-408d-8b07-3d80f6d2a264",
   "metadata": {},
   "source": [
    "## Part B [3 Marks]\n",
    "\n",
    "Show that\n",
    "\n",
    "$$C_0 \\ge e^{\\frac{S_0}{Z_0}} Z_0$$"
   ]
  }
 ],
 "metadata": {
  "kernelspec": {
   "display_name": "Python 3 (ipykernel)",
   "language": "python",
   "name": "python3"
  },
  "language_info": {
   "codemirror_mode": {
    "name": "ipython",
    "version": 3
   },
   "file_extension": ".py",
   "mimetype": "text/x-python",
   "name": "python",
   "nbconvert_exporter": "python",
   "pygments_lexer": "ipython3",
   "version": "3.10.11"
  }
 },
 "nbformat": 4,
 "nbformat_minor": 5
}
